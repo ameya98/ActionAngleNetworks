{
 "cells": [
  {
   "cell_type": "markdown",
   "metadata": {
    "id": "7qMi5_E-R9lu"
   },
   "source": [
    "Copyright 2022 Google LLC.\n",
    "\n",
    "Licensed under the Apache License, Version 2.0 (the \"License\");"
   ]
  },
  {
   "cell_type": "code",
   "execution_count": null,
   "metadata": {
    "cellView": "form",
    "id": "xzh-n15URpBL"
   },
   "outputs": [],
   "source": [
    "# @title License\n",
    "# Licensed under the Apache License, Version 2.0 (the \"License\");\n",
    "# you may not use this file except in compliance with the License.\n",
    "# You may obtain a copy of the License at\n",
    "#\n",
    "# https://www.apache.org/licenses/LICENSE-2.0\n",
    "#\n",
    "# Unless required by applicable law or agreed to in writing, software\n",
    "# distributed under the License is distributed on an \"AS IS\" BASIS,\n",
    "# WITHOUT WARRANTIES OR CONDITIONS OF ANY KIND, either express or implied.\n",
    "# See the License for the specific language governing permissions and\n",
    "# limitations under the License."
   ]
  },
  {
   "cell_type": "markdown",
   "metadata": {
    "id": "G_2R-K2HirHJ"
   },
   "source": [
    "# Action-Angle Networks\n",
    "\n"
   ]
  },
  {
   "cell_type": "code",
   "execution_count": null,
   "metadata": {
    "id": "12FyNb8BRPCC"
   },
   "outputs": [],
   "source": [
    "%pwd"
   ]
  },
  {
   "cell_type": "code",
   "execution_count": null,
   "metadata": {
    "id": "8yR2UOi6oew1"
   },
   "outputs": [],
   "source": [
    "# @title Base Imports\n",
    "from typing import *\n",
    "import functools\n",
    "import sys\n",
    "import tempfile\n",
    "import os\n",
    "\n",
    "from absl import logging\n",
    "import collections\n",
    "import chex\n",
    "from clu import checkpoint\n",
    "import numpy as np\n",
    "import jax\n",
    "import jax.numpy as jnp\n",
    "import flax.linen as nn\n",
    "from flax.core import frozen_dict\n",
    "from flax.training import train_state\n",
    "import optax\n",
    "import distrax\n",
    "import tensorflow as tf\n",
    "import ml_collections\n",
    "import matplotlib.pyplot as plt\n",
    "import matplotlib.animation as animation\n",
    "import matplotlib\n",
    "\n",
    "sys.path.append(\"..\")\n",
    "matplotlib.rc(\"animation\", html=\"jshtml\")\n",
    "logging.get_absl_handler().python_handler.stream = sys.stdout\n",
    "logging.set_verbosity(logging.INFO)"
   ]
  },
  {
   "cell_type": "code",
   "execution_count": null,
   "metadata": {
    "id": "bPBQtMXLS7z2"
   },
   "outputs": [],
   "source": [
    "# @title Source Imports\n",
    "%load_ext autoreload\n",
    "%autoreload 2\n",
    "import harmonic_motion_simulation\n",
    "import models\n",
    "import train\n",
    "from configs.harmonic_motion import action_angle_flow"
   ]
  },
  {
   "cell_type": "code",
   "execution_count": null,
   "metadata": {
    "id": "Y3_KeMenruNv"
   },
   "outputs": [],
   "source": [
    "%load_ext tensorboard"
   ]
  },
  {
   "cell_type": "markdown",
   "metadata": {
    "id": "hZyga3HkQDq6"
   },
   "source": [
    "## Coupled Harmonic Oscillators\n",
    "\n",
    "Consider a system of $n$ particles with masses $m_1, m_2, ..., m_n$.\n",
    "Each particle is connected to a wall with a spring of spring constant $k$,\n",
    "and every pair of particles is connected to each other with a spring of spring constant $\\kappa$.\n",
    "Then, the equations of motion take the following form:\n",
    "$$\n",
    "m_1\\frac{\\partial^2 q_i}{\\partial t^2} = -(k + \\kappa) q_i + \\sum_{j \\neq i}\\kappa q_j\n",
    "$$\n",
    "for each $i \\in \\{1, 2 ..., n\\}$.\n",
    "\n",
    "To find the normal modes where all particles oscillate with the same angular frequency $\\omega$, we make the exponential ansatz:\n",
    "$$\n",
    "q_i = c_ie^{i\\omega t}\n",
    "$$\n",
    "for each $i \\in \\{1, 2 ..., n\\}$.\n",
    "\n",
    "This gives us:\n",
    "$$\n",
    "-\\omega^2c_i = -\\frac{k + \\kappa}{m_i}c_i + \\sum_{j \\neq i}\\frac{\\kappa}{m_i}c_j\n",
    "$$\n",
    "for each $i \\in \\{1, 2 ..., n\\}$.\n",
    "In a matrix form, the coefficients $c$ satisfy\n",
    "$$\n",
    "(M + \\omega^2I_n)c = 0\n",
    "$$\n",
    "where $M$ is the matrix such that\n",
    "$M_{ii} = -\\frac{k + \\kappa}{m_i}$ and $M_{ij} = \\frac{\\kappa}{m_i}$ for $i \\neq j$.\n",
    "\n",
    "Thus, the angular frequencies $\\omega$ are the square roots of the negative\n",
    "eigenvalues of $M$."
   ]
  },
  {
   "cell_type": "code",
   "execution_count": null,
   "metadata": {
    "id": "6uV3LisYezPX"
   },
   "outputs": [],
   "source": [
    "simulation_parameters = {\n",
    "    \"m\": jnp.asarray([2.0, 10.0]),\n",
    "    \"k_wall\": jnp.asarray([10.0, 4.0]),\n",
    "    \"k_pair\": jnp.asarray([1.0, 1.0]),\n",
    "    \"A\": jnp.asarray([3.0, 1.0]),\n",
    "    \"phi\": jnp.asarray([jnp.pi / 2, 0.0]),\n",
    "}"
   ]
  },
  {
   "cell_type": "code",
   "execution_count": null,
   "metadata": {
    "id": "JSQPSUAbYlCT"
   },
   "outputs": [],
   "source": [
    "# Generate coordinates at multiple instants of time!\n",
    "times = jnp.arange(100) * 1\n",
    "positions, momentums = jax.vmap(\n",
    "    harmonic_motion_simulation.generate_canonical_coordinates,\n",
    "    in_axes=(0, None),\n",
    "    out_axes=0,\n",
    ")(times, simulation_parameters)"
   ]
  },
  {
   "cell_type": "code",
   "execution_count": null,
   "metadata": {
    "id": "-huSXDDCvscY"
   },
   "outputs": [],
   "source": [
    "# Compute Hamiltonians at the different instants.\n",
    "hamiltonians = jax.vmap(\n",
    "    harmonic_motion_simulation.compute_hamiltonian, in_axes=(0, 0, None)\n",
    ")(positions, momentums, simulation_parameters)\n",
    "hamiltonians"
   ]
  },
  {
   "cell_type": "markdown",
   "metadata": {},
   "source": [
    "## Training Models\n",
    "\n",
    "You can train a model from scratch below!"
   ]
  },
  {
   "cell_type": "code",
   "execution_count": null,
   "metadata": {
    "id": "djEwafAOPjNH"
   },
   "outputs": [],
   "source": [
    "# @title Training Configuration\n",
    "config = action_angle_flow.get_config()\n",
    "workdir = tempfile.mkdtemp()"
   ]
  },
  {
   "cell_type": "code",
   "execution_count": null,
   "metadata": {
    "id": "E-c3sScK4A01"
   },
   "outputs": [],
   "source": [
    "%tensorboard --logdir={workdir} --port=0"
   ]
  },
  {
   "cell_type": "code",
   "execution_count": null,
   "metadata": {
    "id": "2yAP_WC4DUYK"
   },
   "outputs": [],
   "source": [
    "scaler, state, aux = train.train_and_evaluate(config, workdir)"
   ]
  },
  {
   "cell_type": "markdown",
   "metadata": {},
   "source": [
    "## Loading a Pre-Trained Model"
   ]
  },
  {
   "cell_type": "code",
   "execution_count": null,
   "metadata": {},
   "outputs": [],
   "source": [
    "# @title Training Configuration\n",
    "config = action_angle_flow.get_config()\n",
    "workdir = \"/Users/ameyad/Documents/google-research/workdirs/action_angle_networks/configs/harmonic_motion/action_angle_flow/k_pair=1.\""
   ]
  },
  {
   "cell_type": "code",
   "execution_count": null,
   "metadata": {},
   "outputs": [],
   "source": [
    "def cast_keys_as_int(dictionary: Dict) -> Dict:\n",
    "    \"\"\"Returns a dictionary with string keys converted to integers, wherever possible.\"\"\"\n",
    "    casted_dictionary = {}\n",
    "    for key, val in dictionary.items():\n",
    "        if isinstance(val, dict):\n",
    "            val = cast_keys_as_int(val)\n",
    "        \n",
    "        try:\n",
    "            key = int(key)\n",
    "        except ValueError:\n",
    "            pass\n",
    "        finally:\n",
    "            casted_dictionary[key] = val\n",
    "    return casted_dictionary\n",
    "\n",
    "rng = jax.random.PRNGKey(config.rng_seed)\n",
    "rng, _ = jax.random.split(rng)\n",
    "rng, state_rng = jax.random.split(rng)\n",
    "\n",
    "dummy_scaler = train.create_scaler(config)\n",
    "dummy_state = train.create_train_state(\n",
    "    config, state_rng, (jnp.zeros((1, config.num_trajectories)), jnp.zeros((1, config.num_trajectories)), 0.)\n",
    ")\n",
    "\n",
    "checkpoint_dir = os.path.join(workdir, \"checkpoints\")\n",
    "ckpt = checkpoint.Checkpoint(checkpoint_dir, max_to_keep=2)\n",
    "data = ckpt.restore({\n",
    "    \"scaler\": dummy_scaler,\n",
    "    \"best_state\": dummy_state,\n",
    "    \"auxiliary_data\": None\n",
    "})\n",
    "scaler, state, aux = data[\"scaler\"], data[\"best_state\"], data[\"auxiliary_data\"]\n",
    "aux = cast_keys_as_int(aux)"
   ]
  },
  {
   "cell_type": "code",
   "execution_count": null,
   "metadata": {
    "id": "fSSkCqDmqMe1"
   },
   "outputs": [],
   "source": [
    "train_positions = aux[\"train\"][\"positions\"]\n",
    "train_momentums = aux[\"train\"][\"momentums\"]\n",
    "train_simulation_parameters = aux[\"train\"][\"simulation_parameters\"]\n",
    "all_train_metrics = aux[\"train\"][\"metrics\"]\n",
    "\n",
    "test_positions = aux[\"test\"][\"positions\"]\n",
    "test_momentums = aux[\"test\"][\"momentums\"]\n",
    "test_simulation_parameters = aux[\"test\"][\"simulation_parameters\"]\n",
    "all_test_metrics = aux[\"test\"][\"metrics\"]"
   ]
  },
  {
   "cell_type": "code",
   "execution_count": null,
   "metadata": {},
   "outputs": [],
   "source": [
    "all_test_metrics"
   ]
  },
  {
   "cell_type": "markdown",
   "metadata": {
    "id": "XB3IRcoybC-G"
   },
   "source": [
    "### Plotting Loss\n",
    "\n"
   ]
  },
  {
   "cell_type": "code",
   "execution_count": null,
   "metadata": {
    "id": "Mj4iuzyxbCii"
   },
   "outputs": [],
   "source": [
    "%config InlineBackend.figure_format = \"retina\"\n",
    "\n",
    "metrics = all_test_metrics\n",
    "total_losses = {\n",
    "    jump: np.asarray(list(metrics[step][jump][\"prediction_loss\"] for step in metrics))\n",
    "    for jump in config.test_time_jumps\n",
    "}\n",
    "steps = list(metrics.keys())\n",
    "colors = plt.cm.viridis(np.linspace(0, 1, len(total_losses)))\n",
    "\n",
    "fig, ax = plt.subplots()\n",
    "for jump_color, jump in zip(colors, config.test_time_jumps):\n",
    "    total_losses_for_jump = total_losses[jump]\n",
    "    ax.plot(steps, total_losses_for_jump, label=jump, color=jump_color)\n",
    "\n",
    "ax.set_title(\"Time Jump Sizes: Test Loss\")\n",
    "ax.set_xlabel(\"Steps\")\n",
    "ax.set_ylabel(\"Loss\")\n",
    "ax.set_yscale(\"log\")\n",
    "# ax.set_xscale(\"log\")\n",
    "ax.legend(title=\"Jump Size\")\n",
    "plt.show()"
   ]
  },
  {
   "cell_type": "code",
   "execution_count": null,
   "metadata": {
    "id": "HTQsINmOtNXh"
   },
   "outputs": [],
   "source": [
    "fig.savefig(\"../notebook_outputs/test_losses.pdf\", dpi=1000)\n"
   ]
  },
  {
   "cell_type": "markdown",
   "metadata": {
    "id": "HxKQ4dYHJ8mM"
   },
   "source": [
    "### Plotting Change in Hamiltonians"
   ]
  },
  {
   "cell_type": "code",
   "execution_count": null,
   "metadata": {
    "id": "G3kioM9tJ8mM"
   },
   "outputs": [],
   "source": [
    "%config InlineBackend.figure_format = \"retina\"\n",
    "\n",
    "metrics = all_test_metrics\n",
    "total_changes = {\n",
    "    jump: np.asarray(\n",
    "        list(metrics[step][jump][\"mean_change_in_hamiltonians\"] for step in metrics)\n",
    "    )\n",
    "    for jump in config.test_time_jumps\n",
    "}\n",
    "steps = list(metrics.keys())\n",
    "colors = plt.cm.viridis(np.linspace(0, 1, len(total_changes)))\n",
    "\n",
    "fig, ax = plt.subplots()\n",
    "for jump_color, jump in zip(colors, config.test_time_jumps):\n",
    "    total_changes_for_jump = total_changes[jump]\n",
    "    ax.plot(steps, total_changes_for_jump, label=jump, color=jump_color)\n",
    "\n",
    "true_position, true_momentum = train.inverse_transform_with_scaler(\n",
    "    test_positions[:1], test_momentums[:1], scaler\n",
    ")\n",
    "actual_hamiltonian = harmonic_motion_simulation.compute_hamiltonian(\n",
    "    true_position, true_momentum, test_simulation_parameters\n",
    ")\n",
    "actual_hamiltonian = np.asarray(actual_hamiltonian).squeeze()\n",
    "ax.axhline(y=actual_hamiltonian, c=\"gray\", linestyle=\"--\")\n",
    "ax.set_title(\"Time Jump Sizes: Mean Change in Hamiltonian\")\n",
    "ax.set_xlabel(\"Steps\")\n",
    "ax.set_ylabel(\"Change\")\n",
    "ax.set_yscale(\"log\")\n",
    "# ax.set_xscale(\"log\")\n",
    "ax.legend(title=\"Jump Size\")\n",
    "plt.show()"
   ]
  },
  {
   "cell_type": "code",
   "execution_count": null,
   "metadata": {
    "id": "ihgw9aguJ8mM"
   },
   "outputs": [],
   "source": [
    "fig.savefig(\"../notebook_outputs/test_change_in_hamiltonian.pdf\", dpi=1000)"
   ]
  },
  {
   "cell_type": "markdown",
   "metadata": {
    "id": "_5NymBm6s6EG"
   },
   "source": [
    "### Plotting Action and Angle Space"
   ]
  },
  {
   "cell_type": "code",
   "execution_count": null,
   "metadata": {
    "id": "nHq7EuKotBXG"
   },
   "outputs": [],
   "source": [
    "# Sample position-momentum space.\n",
    "max_position = 1.2 * np.abs(train_positions).max()\n",
    "max_momentum = 1.2 * np.abs(train_momentums).max()\n",
    "plot_positions = jnp.linspace(-max_position, max_position, num=100)\n",
    "plot_momentums = jnp.linspace(-max_momentum, max_momentum, num=100)\n",
    "grid = jnp.meshgrid(plot_positions, plot_momentums)\n",
    "plot_positions = grid[0][:, :, jnp.newaxis]\n",
    "plot_momentums = grid[1][:, :, jnp.newaxis]\n",
    "\n",
    "# Pad the remaining coordinates with zeros.\n",
    "def pad_coords(\n",
    "    positions: chex.Array, momentums: chex.Array, index: int\n",
    ") -> Tuple[chex.Array, chex.Array]:\n",
    "    positions = jnp.pad(\n",
    "        positions, ((0, 0), (0, 0), (index, config.num_trajectories - index - 1))\n",
    "    )\n",
    "    momentums = jnp.pad(\n",
    "        momentums, ((0, 0), (0, 0), (index, config.num_trajectories - index - 1))\n",
    "    )\n",
    "    return positions, momentums\n",
    "\n",
    "\n",
    "trajectory_index = 0\n",
    "plot_positions, plot_momentums = pad_coords(\n",
    "    plot_positions, plot_momentums, trajectory_index\n",
    ")\n",
    "\n",
    "# Compute actions and angles.\n",
    "_, _, auxiliary_predictions = jax.vmap(state.apply_fn, in_axes=(None, 0, 0, None))(\n",
    "    state.params, plot_positions, plot_momentums, 0\n",
    ")\n",
    "plot_actions = auxiliary_predictions[\"actions\"]\n",
    "plot_angles = auxiliary_predictions[\"current_angles\"]\n",
    "\n",
    "# Rescale back to original data range.\n",
    "plot_positions, plot_momentums = jax.vmap(train.inverse_transform_with_scaler, in_axes=(0, 0, None))(\n",
    "    plot_positions, plot_momentums, scaler\n",
    ")\n",
    "(\n",
    "    train_positions_rescaled,\n",
    "    train_momentums_rescaled,\n",
    ") = train.inverse_transform_with_scaler(train_positions, train_momentums, scaler)\n",
    "plot_positions, plot_momentums, plot_actions, plot_angles = jax.tree_map(\n",
    "    lambda arr: arr[:, :, trajectory_index],\n",
    "    (plot_positions, plot_momentums, plot_actions, plot_angles),\n",
    ")"
   ]
  },
  {
   "cell_type": "code",
   "execution_count": null,
   "metadata": {
    "id": "GbvA6Ljzxwys"
   },
   "outputs": [],
   "source": [
    "fig, ax = plt.subplots()\n",
    "contours = ax.contour(plot_positions, plot_momentums, plot_actions, 50, cmap=\"viridis\")\n",
    "fig.colorbar(contours)\n",
    "ax.plot(\n",
    "    train_positions_rescaled[:, trajectory_index],\n",
    "    train_momentums_rescaled[:, trajectory_index],\n",
    "    c=\"gray\",\n",
    "    linestyle=\"--\",\n",
    ")\n",
    "ax.set_xlabel(\"q\")\n",
    "ax.set_ylabel(\"p\")\n",
    "ax.set_title(\"Actions Contour\")\n",
    "plt.show()"
   ]
  },
  {
   "cell_type": "code",
   "execution_count": null,
   "metadata": {
    "id": "s41J4uCMtLDh"
   },
   "outputs": [],
   "source": [
    "fig.savefig(\"../notebook_outputs/actions_contour.pdf\", dpi=1000)"
   ]
  },
  {
   "cell_type": "code",
   "execution_count": null,
   "metadata": {
    "id": "LYdLzUSMyqjf"
   },
   "outputs": [],
   "source": [
    "fig, ax = plt.subplots()\n",
    "contours = ax.contour(plot_positions, plot_momentums, plot_angles, 50, cmap=\"viridis\")\n",
    "fig.colorbar(contours)\n",
    "ax.plot(\n",
    "    train_positions_rescaled[:, trajectory_index],\n",
    "    train_momentums_rescaled[:, trajectory_index],\n",
    "    c=\"gray\",\n",
    "    linestyle=\"--\",\n",
    ")\n",
    "ax.set_xlabel(\"q\")\n",
    "ax.set_ylabel(\"p\")\n",
    "ax.set_title(\"Angles Contour\")\n",
    "plt.show()"
   ]
  },
  {
   "cell_type": "code",
   "execution_count": null,
   "metadata": {
    "id": "in1QA6s_tOnc"
   },
   "outputs": [],
   "source": [
    "fig.savefig(\"../notebook_outputs/angles_contour.pdf\", dpi=1000)"
   ]
  },
  {
   "cell_type": "markdown",
   "metadata": {
    "id": "RQDttGU2zrRU"
   },
   "source": [
    "### Plotting True Trajectories"
   ]
  },
  {
   "cell_type": "code",
   "execution_count": null,
   "metadata": {
    "id": "Jdvko_Omzq55"
   },
   "outputs": [],
   "source": [
    "(\n",
    "    train_positions_rescaled,\n",
    "    train_momentums_rescaled,\n",
    ") = train.inverse_transform_with_scaler(train_positions, train_momentums, scaler)\n",
    "max_position = np.abs(train_positions_rescaled).max()\n",
    "max_momentum = np.abs(train_momentums_rescaled).max()\n",
    "harmonic_motion_simulation.static_plot_coordinates_in_phase_space(\n",
    "    train_positions_rescaled,\n",
    "    train_momentums_rescaled,\n",
    "    title=\"TRAIN TRAJECTORIES\",\n",
    "    max_position=max_position,\n",
    "    max_momentum=max_momentum,\n",
    ")"
   ]
  },
  {
   "cell_type": "code",
   "execution_count": null,
   "metadata": {
    "id": "8DN4DZ-5PvjU"
   },
   "outputs": [],
   "source": [
    "test_positions_rescaled, test_momentums_rescaled = train.inverse_transform_with_scaler(\n",
    "    test_positions, test_momentums, scaler\n",
    ")\n",
    "max_position = np.abs(train_positions_rescaled).max()\n",
    "max_momentum = np.abs(train_momentums_rescaled).max()\n",
    "harmonic_motion_simulation.static_plot_coordinates_in_phase_space(\n",
    "    test_positions_rescaled,\n",
    "    test_momentums_rescaled,\n",
    "    title=\"TEST TRAJECTORIES\",\n",
    "    max_position=max_position,\n",
    "    max_momentum=max_momentum,\n",
    ")"
   ]
  },
  {
   "cell_type": "markdown",
   "metadata": {
    "id": "k-_VH5inpan4"
   },
   "source": [
    "### One-step Predictions"
   ]
  },
  {
   "cell_type": "code",
   "execution_count": null,
   "metadata": {
    "id": "ERuwQNd0htS-"
   },
   "outputs": [],
   "source": [
    "def predict_for_trajectory(\n",
    "    positions_for_trajectory: chex.Array,\n",
    "    momentums_for_trajectory: chex.Array,\n",
    "    jump: int,\n",
    ") -> Tuple[chex.Array, chex.Array]:\n",
    "    (\n",
    "        curr_positions,\n",
    "        curr_momentums,\n",
    "        target_positions,\n",
    "        target_momentums,\n",
    "    ) = train.get_coordinates_for_time_jump(\n",
    "        positions_for_trajectory, momentums_for_trajectory, jump\n",
    "    )\n",
    "    (\n",
    "        predicted_positions,\n",
    "        predicted_momentums,\n",
    "        auxiliary_predictions,\n",
    "    ) = train.compute_predictions(\n",
    "        state, curr_positions, curr_momentums, jump * config.time_delta\n",
    "    )\n",
    "    predicted_positions, predicted_momentums = train.inverse_transform_with_scaler(\n",
    "        predicted_positions, predicted_momentums, scaler\n",
    "    )\n",
    "    return predicted_positions, predicted_momentums"
   ]
  },
  {
   "cell_type": "code",
   "execution_count": null,
   "metadata": {
    "id": "TqMXFbrYdJ74"
   },
   "outputs": [],
   "source": [
    "jump = 1\n",
    "(\n",
    "    train_positions_rescaled,\n",
    "    train_momentums_rescaled,\n",
    ") = train.inverse_transform_with_scaler(train_positions, train_momentums, scaler)\n",
    "max_position = np.abs(train_positions_rescaled).max()\n",
    "max_momentum = np.abs(train_momentums_rescaled).max()\n",
    "\n",
    "predicted_positions, predicted_momentums = predict_for_trajectory(\n",
    "    train_positions, train_momentums, jump\n",
    ")\n",
    "harmonic_motion_simulation.static_plot_coordinates_in_phase_space(\n",
    "    predicted_positions,\n",
    "    predicted_momentums,\n",
    "    title=f\"PREDICTED TRAIN TRAJECTORIES: JUMP {jump}\",\n",
    "    max_position=max_position,\n",
    "    max_momentum=max_momentum,\n",
    ")"
   ]
  },
  {
   "cell_type": "code",
   "execution_count": null,
   "metadata": {
    "id": "_RfpypoXdMr4"
   },
   "outputs": [],
   "source": [
    "train_one_step_predicted_trajectories_anim = (\n",
    "    harmonic_motion_simulation.plot_coordinates(\n",
    "        predicted_positions[:200, 0],\n",
    "        predicted_momentums[:200, 0],\n",
    "        jax.tree_map(lambda arr: arr[0], train_simulation_parameters),\n",
    "        title=f\"ONE-STEP PREDICTED TRAIN TRAJECTORIES: JUMP {jump}\",\n",
    "    )\n",
    ")\n",
    "train_one_step_predicted_trajectories_anim"
   ]
  },
  {
   "cell_type": "code",
   "execution_count": null,
   "metadata": {
    "id": "-XsXCNhiuG2q"
   },
   "outputs": [],
   "source": [
    "jump = 200\n",
    "(\n",
    "    train_positions_rescaled,\n",
    "    train_momentums_rescaled,\n",
    ") = train.inverse_transform_with_scaler(train_positions, train_momentums, scaler)\n",
    "max_position = np.abs(train_positions_rescaled).max()\n",
    "max_momentum = np.abs(train_momentums_rescaled).max()\n",
    "\n",
    "predicted_positions, predicted_momentums = predict_for_trajectory(\n",
    "    test_positions, test_momentums, jump\n",
    ")\n",
    "harmonic_motion_simulation.static_plot_coordinates_in_phase_space(\n",
    "    predicted_positions,\n",
    "    predicted_momentums,\n",
    "    title=f\"PREDICTED TEST TRAJECTORIES: JUMP {jump}\",\n",
    "    max_position=max_position,\n",
    "    max_momentum=max_momentum,\n",
    ")"
   ]
  },
  {
   "cell_type": "code",
   "execution_count": null,
   "metadata": {
    "id": "_hmg_H0cq9jO"
   },
   "outputs": [],
   "source": [
    "test_one_step_predicted_trajectories_anim = harmonic_motion_simulation.plot_coordinates(\n",
    "    predicted_positions[:200],\n",
    "    predicted_momentums[:200],\n",
    "    test_simulation_parameters,\n",
    "    title=f\"ONE-STEP PREDICTED TEST TRAJECTORIES: JUMP {jump}\",\n",
    ")\n",
    "test_one_step_predicted_trajectories_anim"
   ]
  },
  {
   "cell_type": "code",
   "execution_count": null,
   "metadata": {
    "id": "P_gTuJAtKbeB"
   },
   "outputs": [],
   "source": [
    "test_one_step_predicted_trajectories_anim.save(\n",
    "    \"../notebook_outputs/test_one_step_predicted_trajectories.gif\"\n",
    ")"
   ]
  },
  {
   "cell_type": "code",
   "execution_count": null,
   "metadata": {
    "id": "9bRDoATiS3DV"
   },
   "outputs": [],
   "source": [
    "test_one_step_predicted_trajectories_phase_space_anim = (\n",
    "    harmonic_motion_simulation.plot_coordinates_in_phase_space(\n",
    "        predicted_positions[:100],\n",
    "        predicted_momentums[:100],\n",
    "        test_simulation_parameters,\n",
    "        title=f\"ONE-STEP PREDICTED TEST TRAJECTORIES: JUMP {jump}\",\n",
    "    )\n",
    ")\n",
    "test_one_step_predicted_trajectories_phase_space_anim"
   ]
  },
  {
   "cell_type": "code",
   "execution_count": null,
   "metadata": {
    "id": "SQxrPejKLlJI"
   },
   "outputs": [],
   "source": [
    "test_one_step_predicted_trajectories_phase_space_anim.save(\n",
    "    \"../notebook_outputs/test_one_step_predicted_trajectories_phase_space.gif\"\n",
    ")"
   ]
  },
  {
   "cell_type": "markdown",
   "metadata": {
    "id": "YLHw4DZwmA4T"
   },
   "source": [
    "### Distribution of Actions"
   ]
  },
  {
   "cell_type": "code",
   "execution_count": null,
   "metadata": {
    "id": "SqASSBMew2uP"
   },
   "outputs": [],
   "source": [
    "# Compute actions.\n",
    "jump = 1\n",
    "curr_positions, curr_momentums, *_ = train.get_coordinates_for_time_jump(\n",
    "    train_positions[:1], train_momentums[:1], jump\n",
    ")\n",
    "\n",
    "_, _, auxiliary_predictions = state.apply_fn(\n",
    "    state.params, curr_positions, curr_momentums, 0\n",
    ")\n",
    "plot_actions = auxiliary_predictions[\"actions\"]\n",
    "plot_angles = auxiliary_predictions[\"current_angles\"]\n",
    "\n",
    "actions = auxiliary_predictions[\"actions\"]\n",
    "actions = np.asarray(actions).flatten()\n",
    "plt.hist(actions, bins=1000)\n",
    "plt.gca().xaxis.set_major_formatter(matplotlib.ticker.StrMethodFormatter(\"{x:,.3f}\"))\n",
    "plt.show()"
   ]
  },
  {
   "cell_type": "code",
   "execution_count": null,
   "metadata": {
    "id": "NYutCNyMfgLe"
   },
   "outputs": [],
   "source": [
    "angular_velocities = auxiliary_predictions[\"angular_velocities\"]\n",
    "angular_velocities = np.asarray(angular_velocities).flatten()\n",
    "plt.hist(angular_velocities, bins=1000)\n",
    "plt.gca().xaxis.set_major_formatter(matplotlib.ticker.StrMethodFormatter(\"{x:,.4f}\"))\n",
    "plt.show()"
   ]
  },
  {
   "cell_type": "markdown",
   "metadata": {
    "id": "AnOJUuacpf0C"
   },
   "source": [
    "### Non-Recursive Multi-Step Predictions"
   ]
  },
  {
   "cell_type": "code",
   "execution_count": null,
   "metadata": {
    "id": "K0c2cmbV4K6-"
   },
   "outputs": [],
   "source": [
    "jump = 50\n",
    "non_recursive_predictions = state.apply_fn(\n",
    "    state.params,\n",
    "    test_positions[:1],\n",
    "    test_momentums[:1],\n",
    "    jnp.arange(1, 500) * jump * config.time_delta,\n",
    "    method=models.ActionAngleNetwork.predict_multi_step,\n",
    ")\n",
    "(\n",
    "    non_recursive_multi_step_predicted_positions,\n",
    "    non_recursive_multi_step_predicted_momentums,\n",
    "    non_recursive_multi_step_auxiliary_predictions,\n",
    ") = non_recursive_predictions\n",
    "non_recursive_multi_step_auxiliary_predictions[\n",
    "    \"angular_velocities\"\n",
    "], non_recursive_multi_step_auxiliary_predictions[\n",
    "    \"current_angles\"\n",
    "], non_recursive_multi_step_auxiliary_predictions[\n",
    "    \"future_angles\"\n",
    "][\n",
    "    :10\n",
    "]"
   ]
  },
  {
   "cell_type": "code",
   "execution_count": null,
   "metadata": {
    "id": "FUAEgpRfje5V"
   },
   "outputs": [],
   "source": [
    "(\n",
    "    non_recursive_multi_step_predicted_positions,\n",
    "    non_recursive_multi_step_predicted_momentums,\n",
    ") = train.inverse_transform_with_scaler(\n",
    "    non_recursive_multi_step_predicted_positions,\n",
    "    non_recursive_multi_step_predicted_momentums,\n",
    "    scaler,\n",
    ")"
   ]
  },
  {
   "cell_type": "code",
   "execution_count": null,
   "metadata": {
    "id": "ZsFM_JZDQAeE"
   },
   "outputs": [],
   "source": [
    "fig = harmonic_motion_simulation.static_plot_coordinates_in_phase_space(\n",
    "    non_recursive_multi_step_predicted_positions[:100],\n",
    "    non_recursive_multi_step_predicted_momentums[:100],\n",
    "    title=f\"PREDICTED TEST TRAJECTORIES: JUMP {jump}\",\n",
    ")\n",
    "fig"
   ]
  },
  {
   "cell_type": "code",
   "execution_count": null,
   "metadata": {
    "id": "xe_HVs17uTzh"
   },
   "outputs": [],
   "source": [
    "fig.savefig(\n",
    "    f\"../notebook_outputs/test_multi_step_predicted_phase_space_jump_{jump}.pdf\",\n",
    "    dpi=1000,\n",
    "    bbox_inches=\"tight\",\n",
    "    pad_inches=0,\n",
    ")"
   ]
  },
  {
   "cell_type": "code",
   "execution_count": null,
   "metadata": {
    "id": "1U9xwtDWRDo8"
   },
   "outputs": [],
   "source": [
    "test_multi_step_predicted_trajectories_anim = plot_coordinates(\n",
    "    non_recursive_multi_step_predicted_positions,\n",
    "    non_recursive_multi_step_predicted_momentums,\n",
    "    simulation_parameters,\n",
    "    title=\"NON-RECURSIVE MULTI-STEP PREDICTED TEST TRAJECTORIES\",\n",
    ")\n",
    "test_multi_step_predicted_trajectories_anim"
   ]
  },
  {
   "cell_type": "code",
   "execution_count": null,
   "metadata": {
    "id": "wukONGNXRDpD"
   },
   "outputs": [],
   "source": [
    "test_multi_step_predicted_trajectories_anim.save(\n",
    "    \"../notebook_outputs/test_non_recursive_multi_step_predicted_trajectories.gif\"\n",
    ")"
   ]
  },
  {
   "cell_type": "code",
   "execution_count": null,
   "metadata": {
    "id": "nbdBYsHfRDpD"
   },
   "outputs": [],
   "source": [
    "test_multi_step_predicted_trajectories_phase_space_anim = (\n",
    "    harmonic_motion_simulation.plot_coordinates_in_phase_space(\n",
    "        non_recursive_multi_step_predicted_positions[:100],\n",
    "        non_recursive_multi_step_predicted_momentums[:100],\n",
    "        test_simulation_parameters,\n",
    "        title=f\"PREDICTED TEST TRAJECTORIES: JUMP {jump}\",\n",
    "    )\n",
    ")\n",
    "test_multi_step_predicted_trajectories_phase_space_anim"
   ]
  },
  {
   "cell_type": "code",
   "execution_count": null,
   "metadata": {
    "id": "R5VVTn4BRDpD"
   },
   "outputs": [],
   "source": [
    "test_multi_step_predicted_trajectories_phase_space_anim.save(\n",
    "    f\"../notebook_outputs/test_non_recursive_multi_step_predicted_trajectories_phase_space_jump_{jump}.gif\"\n",
    ")"
   ]
  },
  {
   "cell_type": "markdown",
   "metadata": {
    "id": "H09MhjHiReRL"
   },
   "source": [
    "### Recursive Multi-Step Predictions"
   ]
  },
  {
   "cell_type": "code",
   "execution_count": null,
   "metadata": {
    "id": "3srAj0PxXUR4"
   },
   "outputs": [],
   "source": [
    "def predict_next_step(carry, _):\n",
    "    current_position, current_momentum = carry\n",
    "    (\n",
    "        predicted_position,\n",
    "        predicted_momentum,\n",
    "        auxiliary_predictions,\n",
    "    ) = train.compute_predictions(\n",
    "        state, current_position, current_momentum, config.time_delta\n",
    "    )\n",
    "    return (predicted_position, predicted_momentum), (\n",
    "        predicted_position,\n",
    "        predicted_momentum,\n",
    "        auxiliary_predictions,\n",
    "    )\n",
    "\n",
    "\n",
    "_, recursive_predictions = jax.lax.scan(\n",
    "    predict_next_step, (test_positions[0, :1], test_momentums[0, :1]), None, length=1000\n",
    ")\n",
    "(\n",
    "    recursive_multi_step_predicted_positions,\n",
    "    recursive_multi_step_predicted_momentums,\n",
    "    recursive_multi_step_auxiliary_predictions,\n",
    ") = recursive_predictions\n",
    "recursive_multi_step_auxiliary_predictions[\"angular_velocities\"][\n",
    "    0\n",
    "], recursive_multi_step_auxiliary_predictions[\"current_angles\"][\n",
    "    :10\n",
    "], recursive_multi_step_auxiliary_predictions[\n",
    "    \"future_angles\"\n",
    "][\n",
    "    :10\n",
    "]"
   ]
  },
  {
   "cell_type": "code",
   "execution_count": null,
   "metadata": {
    "id": "Kg7wdSjgHW1C"
   },
   "outputs": [],
   "source": [
    "recursive_multi_step_predicted_positions[0], recursive_multi_step_predicted_momentums[0]"
   ]
  },
  {
   "cell_type": "code",
   "execution_count": null,
   "metadata": {
    "id": "fmUazZnWlvNZ"
   },
   "outputs": [],
   "source": [
    "(\n",
    "    recursive_multi_step_predicted_positions,\n",
    "    recursive_multi_step_predicted_momentums,\n",
    ") = train.inverse_transform_with_scaler(\n",
    "    recursive_multi_step_predicted_positions,\n",
    "    recursive_multi_step_predicted_momentums,\n",
    "    scaler,\n",
    ")"
   ]
  },
  {
   "cell_type": "code",
   "execution_count": null,
   "metadata": {
    "id": "hHox2qP4PSwO"
   },
   "outputs": [],
   "source": [
    "recursive_multi_step_predicted_positions[0], recursive_multi_step_predicted_momentums[0]"
   ]
  },
  {
   "cell_type": "code",
   "execution_count": null,
   "metadata": {
    "id": "CnKVFzUIdCUD"
   },
   "outputs": [],
   "source": [
    "test_multi_step_predicted_trajectories_anim = (\n",
    "    harmonic_motion_simulation.plot_coordinates(\n",
    "        recursive_multi_step_predicted_positions[:200],\n",
    "        recursive_multi_step_predicted_momentums[:200],\n",
    "        test_simulation_parameters,\n",
    "        title=\"RECURSIVE MULTI-STEP PREDICTED TEST TRAJECTORIES\",\n",
    "    )\n",
    ")\n",
    "test_multi_step_predicted_trajectories_anim"
   ]
  },
  {
   "cell_type": "code",
   "execution_count": null,
   "metadata": {
    "id": "Zd5qVxLOeNlr"
   },
   "outputs": [],
   "source": [
    "test_multi_step_predicted_trajectories_anim.save(\n",
    "    \"../notebook_outputs/test_recursive_multi_step_predicted_trajectories.gif\"\n",
    ")"
   ]
  },
  {
   "cell_type": "code",
   "execution_count": null,
   "metadata": {
    "id": "IvNO-958Ah9a"
   },
   "outputs": [],
   "source": [
    "harmonic_motion_simulation.static_plot_coordinates_in_phase_space(\n",
    "    recursive_multi_step_predicted_positions,\n",
    "    recursive_multi_step_predicted_momentums,\n",
    "    title=\"RECURSIVE MULTI-STEP PREDICTED TEST TRAJECTORIES\",\n",
    ")"
   ]
  },
  {
   "cell_type": "code",
   "execution_count": null,
   "metadata": {
    "id": "6Fp2JjnBTntG"
   },
   "outputs": [],
   "source": [
    "test_multi_step_predicted_trajectories_phase_space_anim = (\n",
    "    harmonic_motion_simulation.plot_coordinates_in_phase_space(\n",
    "        recursive_multi_step_predicted_positions[:200],\n",
    "        recursive_multi_step_predicted_momentums[:200],\n",
    "        test_simulation_parameters,\n",
    "        title=\"RECURSIVE MULTI-STEP PREDICTED TEST TRAJECTORIES\",\n",
    "    )\n",
    ")\n",
    "test_multi_step_predicted_trajectories_phase_space_anim"
   ]
  },
  {
   "cell_type": "code",
   "execution_count": null,
   "metadata": {
    "id": "mItVG-inTntO"
   },
   "outputs": [],
   "source": [
    "test_multi_step_predicted_trajectories_phase_space_anim.save(\n",
    "    \"../notebook_outputs/test_recursive_multi_step_predicted_trajectories_phase_space.gif\"\n",
    ")"
   ]
  },
  {
   "cell_type": "markdown",
   "metadata": {
    "id": "Tr73D2aZpdBT"
   },
   "source": [
    "### True Trajectories"
   ]
  },
  {
   "cell_type": "code",
   "execution_count": null,
   "metadata": {
    "id": "4qARWdeFErrq"
   },
   "outputs": [],
   "source": [
    "test_true_trajectories_anim = harmonic_motion_simulation.plot_coordinates(\n",
    "    test_positions[:200],\n",
    "    test_momentums[:200],\n",
    "    test_simulation_parameters,\n",
    "    title=\"TRUE TEST TRAJECTORIES\",\n",
    ")\n",
    "test_true_trajectories_anim"
   ]
  },
  {
   "cell_type": "code",
   "execution_count": null,
   "metadata": {
    "id": "vFX_A7pkFldi"
   },
   "outputs": [],
   "source": [
    "test_true_trajectories_anim.save(\"../notebook_outputs/test_true_trajectories.gif\")"
   ]
  }
 ],
 "metadata": {
  "colab": {
   "collapsed_sections": [],
   "name": "Action Angle Networks",
   "private_outputs": true,
   "provenance": []
  },
  "kernelspec": {
   "display_name": "Python 3.10.6 ('.venv': venv)",
   "language": "python",
   "name": "python3"
  },
  "language_info": {
   "codemirror_mode": {
    "name": "ipython",
    "version": 3
   },
   "file_extension": ".py",
   "mimetype": "text/x-python",
   "name": "python",
   "nbconvert_exporter": "python",
   "pygments_lexer": "ipython3",
   "version": "3.10.6"
  },
  "vscode": {
   "interpreter": {
    "hash": "45c221f236eecb0b1c23fce42a936a83675bebea8d9fa72a417c8659fc8ee34a"
   }
  }
 },
 "nbformat": 4,
 "nbformat_minor": 0
}
