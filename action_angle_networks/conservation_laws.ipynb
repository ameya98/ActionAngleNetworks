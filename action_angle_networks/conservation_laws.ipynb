{
 "cells": [
  {
   "cell_type": "markdown",
   "metadata": {
    "id": "7qMi5_E-R9lu"
   },
   "source": [
    "Copyright 2022 Google LLC.\n",
    "\n",
    "Licensed under the Apache License, Version 2.0 (the \"License\");"
   ]
  },
  {
   "cell_type": "code",
   "execution_count": 15,
   "metadata": {
    "cellView": "form",
    "id": "xzh-n15URpBL"
   },
   "outputs": [],
   "source": [
    "# @title License\n",
    "# Licensed under the Apache License, Version 2.0 (the \"License\");\n",
    "# you may not use this file except in compliance with the License.\n",
    "# You may obtain a copy of the License at\n",
    "#\n",
    "# https://www.apache.org/licenses/LICENSE-2.0\n",
    "#\n",
    "# Unless required by applicable law or agreed to in writing, software\n",
    "# distributed under the License is distributed on an \"AS IS\" BASIS,\n",
    "# WITHOUT WARRANTIES OR CONDITIONS OF ANY KIND, either express or implied.\n",
    "# See the License for the specific language governing permissions and\n",
    "# limitations under the License."
   ]
  },
  {
   "cell_type": "markdown",
   "metadata": {
    "id": "G_2R-K2HirHJ"
   },
   "source": [
    "# Action-Angle Networks\n",
    "\n"
   ]
  },
  {
   "cell_type": "code",
   "execution_count": 16,
   "metadata": {
    "id": "12FyNb8BRPCC"
   },
   "outputs": [
    {
     "data": {
      "text/plain": [
       "'/Users/ameyad/Documents/google-research/action_angle_networks'"
      ]
     },
     "execution_count": 16,
     "metadata": {},
     "output_type": "execute_result"
    }
   ],
   "source": [
    "%pwd"
   ]
  },
  {
   "cell_type": "code",
   "execution_count": 17,
   "metadata": {},
   "outputs": [],
   "source": [
    "%mkdir -p ../notebook_outputs"
   ]
  },
  {
   "cell_type": "code",
   "execution_count": 18,
   "metadata": {
    "id": "8yR2UOi6oew1"
   },
   "outputs": [],
   "source": [
    "# @title Base Imports\n",
    "from typing import *\n",
    "import functools\n",
    "import sys\n",
    "import tempfile\n",
    "import os\n",
    "\n",
    "from absl import logging\n",
    "import collections\n",
    "import chex\n",
    "from clu import checkpoint\n",
    "import numpy as np\n",
    "import jax\n",
    "import jax.numpy as jnp\n",
    "import flax.linen as nn\n",
    "from flax.core import frozen_dict\n",
    "from flax.training import train_state\n",
    "import optax\n",
    "import distrax\n",
    "import tensorflow as tf\n",
    "import ml_collections\n",
    "import matplotlib.pyplot as plt\n",
    "import matplotlib.animation as animation\n",
    "import matplotlib\n",
    "import pysr\n",
    "import yaml\n",
    "\n",
    "PLT_STYLE_CONTEXT = ['science', 'ieee', 'grid']\n",
    "\n",
    "sys.path.append(\"..\")\n",
    "matplotlib.rc(\"animation\", html=\"jshtml\")\n",
    "logging.get_absl_handler().python_handler.stream = sys.stdout\n",
    "logging.set_verbosity(logging.INFO)"
   ]
  },
  {
   "cell_type": "code",
   "execution_count": 19,
   "metadata": {},
   "outputs": [
    {
     "name": "stdout",
     "output_type": "stream",
     "text": [
      "The autoreload extension is already loaded. To reload it, use:\n",
      "  %reload_ext autoreload\n"
     ]
    }
   ],
   "source": [
    "%load_ext autoreload"
   ]
  },
  {
   "cell_type": "code",
   "execution_count": 20,
   "metadata": {
    "id": "bPBQtMXLS7z2"
   },
   "outputs": [],
   "source": [
    "# @title Source Imports\n",
    "%autoreload 2\n",
    "import harmonic_motion_simulation\n",
    "import models\n",
    "import train\n",
    "import analysis\n",
    "from configs.harmonic_motion import (action_angle_flow, action_angle_mlp, euler_update_flow, euler_update_mlp)"
   ]
  },
  {
   "cell_type": "markdown",
   "metadata": {},
   "source": [
    "## Loading a Pre-Trained Model"
   ]
  },
  {
   "cell_type": "code",
   "execution_count": 23,
   "metadata": {},
   "outputs": [],
   "source": [
    "# @title Location of Pretrained Model\n",
    "# config_name = \"euler_update_flow\"\n",
    "config_name = \"action_angle_flow\"\n",
    "k_pair = \"0.5\"\n",
    "num_samples = \"500\"\n",
    "workdir = f\"/Users/ameyad/Documents/google-research/workdirs/performance_vs_samples/action_angle_networks/configs/harmonic_motion/{config_name}/k_pair={k_pair}/num_samples={num_samples}\""
   ]
  },
  {
   "cell_type": "code",
   "execution_count": 24,
   "metadata": {},
   "outputs": [
    {
     "name": "stderr",
     "output_type": "stream",
     "text": [
      "INFO:absl:Saved config found. Loading...\n",
      "INFO:absl:Using config: activation: sigmoid\n",
      "batch_size: 100\n",
      "encoder_decoder_type: flow\n",
      "eval_cadence: 50\n",
      "flow_type: shear\n",
      "latent_size: 100\n",
      "learning_rate: 0.001\n",
      "model: action-angle-network\n",
      "num_flow_layers: 20\n",
      "num_samples: 1000\n",
      "num_train_steps: 50000\n",
      "num_trajectories: 2\n",
      "polar_action_angles: true\n",
      "regularizations:\n",
      "  actions: 1.0\n",
      "  angular_velocities: 0.0\n",
      "  encoded_decoded_differences: 0.0\n",
      "rng_seed: 0\n",
      "scaler: standard\n",
      "simulation: harmonic\n",
      "simulation_parameter_ranges:\n",
      "  A: !!python/tuple\n",
      "  - 1\n",
      "  - 10\n",
      "  k_pair: !!python/tuple\n",
      "  - 0.5\n",
      "  k_wall: !!python/tuple\n",
      "  - 0.005\n",
      "  - 0.01\n",
      "  m: !!python/tuple\n",
      "  - 1\n",
      "  - 5\n",
      "  phi: !!python/tuple\n",
      "  - 0\n",
      "  - 1\n",
      "single_step_predictions: true\n",
      "split_on: times\n",
      "test_split_proportion: 0.5\n",
      "test_time_jumps: !!python/tuple\n",
      "- 1\n",
      "- 2\n",
      "- 5\n",
      "- 10\n",
      "- 20\n",
      "- 50\n",
      "time_delta: 1.0\n",
      "train_split_proportion: 0.5\n",
      "train_time_jump_range: !!python/tuple\n",
      "- 1\n",
      "- 10\n",
      "train_time_jump_schedule: linear\n",
      "\n",
      "INFO:absl:Restoring checkpoint: /Users/ameyad/Documents/google-research/workdirs/performance_vs_samples/action_angle_networks/configs/harmonic_motion/action_angle_flow/k_pair=0.5/num_samples=500/checkpoints/ckpt-1\n",
      "INFO:absl:Restored save_counter=1 restored_checkpoint=/Users/ameyad/Documents/google-research/workdirs/performance_vs_samples/action_angle_networks/configs/harmonic_motion/action_angle_flow/k_pair=0.5/num_samples=500/checkpoints/ckpt-1\n"
     ]
    }
   ],
   "source": [
    "config, scaler, state, aux = analysis.load_from_workdir(workdir)"
   ]
  },
  {
   "cell_type": "code",
   "execution_count": 27,
   "metadata": {
    "id": "fSSkCqDmqMe1"
   },
   "outputs": [],
   "source": [
    "train_positions = aux[\"train\"][\"positions\"]\n",
    "train_momentums = aux[\"train\"][\"momentums\"]\n",
    "train_simulation_parameters = aux[\"train\"][\"simulation_parameters\"]\n",
    "all_train_metrics = aux[\"train\"][\"metrics\"]\n",
    "\n",
    "test_positions = aux[\"test\"][\"positions\"]\n",
    "test_momentums = aux[\"test\"][\"momentums\"]\n",
    "test_simulation_parameters = aux[\"test\"][\"simulation_parameters\"]\n",
    "all_test_metrics = aux[\"test\"][\"metrics\"]"
   ]
  },
  {
   "cell_type": "code",
   "execution_count": 29,
   "metadata": {},
   "outputs": [],
   "source": [
    "# Compute actions.\n",
    "jump = 1\n",
    "curr_positions, curr_momentums, *_ = train.get_coordinates_for_time_jump(\n",
    "    train_positions, train_momentums, jump\n",
    ")\n",
    "\n",
    "_, _, auxiliary_predictions = state.apply_fn(\n",
    "    state.params, curr_positions, curr_momentums, 0\n",
    ")\n",
    "actions = auxiliary_predictions[\"actions\"]\n",
    "angles = auxiliary_predictions[\"current_angles\"]"
   ]
  },
  {
   "cell_type": "code",
   "execution_count": 32,
   "metadata": {},
   "outputs": [],
   "source": [
    "model = pysr.PySRRegressor(niterations=100)"
   ]
  },
  {
   "cell_type": "code",
   "execution_count": 46,
   "metadata": {},
   "outputs": [
    {
     "data": {
      "text/plain": [
       "(499, 2)"
      ]
     },
     "execution_count": 46,
     "metadata": {},
     "output_type": "execute_result"
    }
   ],
   "source": [
    "curr_positions, curr_momentums = train.inverse_transform_with_scaler(curr_positions, curr_momentums, scaler)\n",
    "masses = np.tile(train_simulation_parameters['m'][np.newaxis, :], (curr_positions.shape[0], 1))"
   ]
  },
  {
   "cell_type": "code",
   "execution_count": 47,
   "metadata": {},
   "outputs": [],
   "source": [
    "X = np.concatenate([curr_positions, curr_momentums, masses], axis=1)"
   ]
  },
  {
   "cell_type": "code",
   "execution_count": 48,
   "metadata": {},
   "outputs": [
    {
     "name": "stderr",
     "output_type": "stream",
     "text": [
      "/Users/ameyad/Documents/google-research/.venv/lib/python3.10/site-packages/pysr/sr.py:1699: UserWarning: The discovered expressions are being reset. Please set `warm_start=True` if you wish to continue to start a search where you left off.\n",
      "  warnings.warn(\n",
      "/Users/ameyad/Documents/google-research/.venv/lib/python3.10/site-packages/pysr/sr.py:1225: UserWarning: Note: it looks like you are running in Jupyter. The progress bar will be turned off.\n",
      "  warnings.warn(\n"
     ]
    },
    {
     "name": "stdout",
     "output_type": "stream",
     "text": [
      "Started!\n",
      "\n",
      "Cycles per second: 2.400e+05\n",
      "Head worker occupation: 11.3%\n",
      "Progress: 667 / 3000 total iterations (22.233%)\n",
      "==============================\n",
      "Best equations for output 1\n",
      "Hall of Fame:\n",
      "-----------------------------------------\n",
      "Complexity  loss       Score     Equation\n",
      "1           1.375e-06  -1.000e-10  1.4889566\n",
      "5           1.354e-06  3.927e-03  ((x2 * 1.698073e-5) - -1.4889534)\n",
      "7           1.017e-06  1.432e-01  (((x3 * x2) * 0.0034503608) - -1.4889301)\n",
      "9           1.002e-06  7.066e-03  ((((x3 * 0.0034193413) + 1.3871648e-5) * x2) - -1.4889274)\n",
      "11          1.002e-06  4.831e-05  ((((x3 * 0.0034193413) + 1.3871648e-5) * (x2 + -0.19352844)) - -1.4889274)\n",
      "13          1.001e-06  8.409e-04  (((((x3 * 0.0034193413) / (x5 + x3)) + 1.3871648e-5) * x2) - -1.4889274)\n",
      "15          9.762e-07  1.236e-02  (1.5403733 - ((((0.0005618166 / x4) / ((x2 * x3) - 0.49366328)) - -0.010555818) * x4))\n",
      "17          9.753e-07  4.570e-04  (1.5403733 - ((((0.0005618166 / (x3 + x4)) / ((x2 * x3) - 0.49366328)) - -0.010555818) * x4))\n",
      "19          9.739e-07  7.066e-04  (1.5403733 - ((((0.0005618166 / ((x3 * x4) + x4)) / ((x2 * x3) - 0.49366328)) - -0.010555818) * x4))\n",
      "\n",
      "==============================\n",
      "Best equations for output 2\n",
      "Hall of Fame:\n",
      "-----------------------------------------\n",
      "Complexity  loss       Score     Equation\n",
      "1           5.395e-06  -1.000e-10  0.54505855\n",
      "5           5.308e-06  4.094e-03  (0.5450467 - (x3 * -0.011272818))\n",
      "7           5.255e-06  5.013e-03  (0.5454221 / (x5 + (x3 * x3)))\n",
      "9           5.146e-06  1.047e-02  (((0.021786498 - x3) * (x3 * 0.59421843)) + 0.545444)\n",
      "11          5.146e-06  1.639e-06  (((0.021786498 - x3) * ((x3 * 0.59421843) / 1.0015309)) + 0.545444)\n",
      "13          5.145e-06  5.403e-05  ((((0.021786498 - x3) / 0.96531) * (x3 * (0.545444 - x3))) + 0.545444)\n",
      "17          5.131e-06  6.878e-04  (((((0.021786498 - x3) / ((x2 * x3) + 0.96531)) * (x3 * 0.545444)) + 0.545444) * x5)\n",
      "19          5.100e-06  3.004e-03  (0.5454221 * (x5 - ((x3 * (x3 + -0.022926318)) * ((x5 - (x3 / (0.008310654 / x3))) / 0.7984279))))\n",
      "\n",
      "==============================\n",
      "Press 'q' and then <enter> to stop execution early.\n",
      "\n",
      "Cycles per second: 2.450e+05\n",
      "Head worker occupation: 10.6%\n",
      "Progress: 1355 / 3000 total iterations (45.167%)\n",
      "==============================\n",
      "Best equations for output 1\n",
      "Hall of Fame:\n",
      "-----------------------------------------\n",
      "Complexity  loss       Score     Equation\n",
      "1           1.375e-06  -1.000e-10  1.4889566\n",
      "5           1.354e-06  3.928e-03  ((x2 * 1.6974162e-5) - -1.4889529)\n",
      "7           1.017e-06  1.432e-01  (((x3 * x2) * 0.0034503608) - -1.4889301)\n",
      "9           1.002e-06  7.066e-03  ((((x3 * 0.0034193413) + 1.3871648e-5) * x2) - -1.4889274)\n",
      "11          1.002e-06  6.369e-05  ((((x3 * 0.0034193343) + 1.3706108e-5) * (x2 - 0.1351202)) - -1.4889274)\n",
      "13          1.001e-06  8.255e-04  (((((x3 * 0.0034193413) / (x5 + x3)) + 1.3871648e-5) * x2) - -1.4889274)\n",
      "15          9.762e-07  1.236e-02  (1.5403733 - ((((0.0005618166 / x4) / ((x2 * x3) - 0.49366328)) - -0.010555818) * x4))\n",
      "17          9.733e-07  1.466e-03  (1.5403733 - ((((0.0005618166 / x4) / (((x2 - 0.24327452) * x3) - 0.49366328)) - -0.010555818) * x4))\n",
      "19          9.649e-07  4.322e-03  ((((x3 * 0.0034193413) + (1.3871648e-5 * ((x0 / x0) - ((x3 - x2) * -0.14223032)))) * x2) - -1.4889274)\n",
      "\n",
      "==============================\n",
      "Best equations for output 2\n",
      "Hall of Fame:\n",
      "-----------------------------------------\n",
      "Complexity  loss       Score     Equation\n",
      "1           5.395e-06  -1.000e-10  0.54505855\n",
      "5           5.308e-06  4.094e-03  ((x3 * 0.011272862) + 0.5450467)\n",
      "7           5.253e-06  5.166e-03  ((x3 * (0.020025596 - x3)) + 0.5456329)\n",
      "9           5.146e-06  1.032e-02  (((0.021786498 - x3) * (x3 * 0.58303636)) + 0.545444)\n",
      "11          5.145e-06  6.023e-05  (((0.021785466 - x3) * (x3 * (0.5571272 - x3))) + 0.54544204)\n",
      "13          5.145e-06  1.162e-06  (((0.021785466 - x3) * (x3 * ((x3 * -0.90354514) + 0.5571272))) + 0.54544204)\n",
      "15          5.121e-06  2.333e-03  ((((0.021786498 - x3) / ((x2 * x3) + 0.8404691)) * (x3 * 0.545444)) + 0.545444)\n",
      "17          5.109e-06  1.188e-03  (0.5454221 * (x5 - ((x3 * (x3 + -0.022926318)) / ((x3 / (0.008310654 / x3)) + 0.7984279))))\n",
      "19          5.098e-06  1.045e-03  (0.5454221 * (x5 - ((x3 * (x3 + -0.022926318)) * ((x5 - (x3 / (0.008310654 / x3))) / 0.7545041))))\n",
      "\n",
      "==============================\n",
      "Press 'q' and then <enter> to stop execution early.\n",
      "\n",
      "Cycles per second: 2.500e+05\n",
      "Head worker occupation: 10.6%\n",
      "Progress: 2077 / 3000 total iterations (69.233%)\n",
      "==============================\n",
      "Best equations for output 1\n",
      "Hall of Fame:\n",
      "-----------------------------------------\n",
      "Complexity  loss       Score     Equation\n",
      "1           1.375e-06  -1.000e-10  1.4889566\n",
      "5           1.354e-06  3.928e-03  ((x2 * 1.6974162e-5) - -1.4889529)\n",
      "7           1.017e-06  1.432e-01  (((x3 * x2) * 0.0034503608) - -1.4889301)\n",
      "9           1.002e-06  7.067e-03  ((((x3 * 0.0034186563) + 1.3870111e-5) * x2) - -1.4889277)\n",
      "11          1.002e-06  6.470e-05  ((((x3 * 0.0034193343) + 1.3706108e-5) * (x2 - 0.121186666)) - -1.4889274)\n",
      "13          9.738e-07  1.441e-02  ((((x3 * 0.0034193413) + ((1.3871648e-5 * x2) * -0.14223032)) * x2) - -1.4889557)\n",
      "15          9.588e-07  7.755e-03  ((((x3 * 0.0034193413) + (1.3871648e-5 * ((-0.14223032 * x2) - -0.74683005))) * x2) - -1.4889557)\n",
      "17          9.570e-07  9.522e-04  ((((x3 * (0.0034193413 / 1.0312481)) + (1.3871648e-5 * ((-0.14223032 * x2) - -0.74683005))) * x2) - -1.4889557)\n",
      "19          9.570e-07  7.748e-07  ((((x3 * (0.0034193413 / 1.0312481)) + (1.3871648e-5 * ((-0.14223032 * x2) - -0.74683005))) * (x2 - 0.0034193413)) - -1.4889557)\n",
      "\n",
      "==============================\n",
      "Best equations for output 2\n",
      "Hall of Fame:\n",
      "-----------------------------------------\n",
      "Complexity  loss       Score     Equation\n",
      "1           5.395e-06  -1.000e-10  0.54505855\n",
      "5           5.308e-06  4.094e-03  ((x3 * 0.011272862) + 0.5450467)\n",
      "7           4.905e-06  3.947e-02  (((x2 * x0) * 1.3374634e-9) + 0.54505044)\n",
      "9           4.904e-06  6.435e-05  ((((x2 - x3) * x0) * 1.3326614e-9) + 0.54505044)\n",
      "11          4.899e-06  5.664e-04  ((x3 / x1) + (((x2 * x0) * 1.3374634e-9) + 0.54505044))\n",
      "13          4.867e-06  3.250e-03  (((2.9962216e-10 / (((0.7198226 / x2) + x3) / x0)) / 0.40746146) + 0.54505897)\n",
      "15          4.865e-06  2.303e-04  (((2.9962216e-10 / (((0.6938422 / x2) + x3) / (x0 + -0.9883285))) / 0.40746146) + 0.54505897)\n",
      "17          4.860e-06  4.185e-04  (((2.9962216e-10 / ((((0.6938422 + (x3 / -0.9320354)) / x2) + x3) / x0)) / 0.40746146) + 0.54505897)\n",
      "19          4.859e-06  1.458e-04  (((2.9962216e-10 / ((((0.6938422 - (x3 + x3)) / x2) + x3) / (x0 + -0.021976024))) / 0.40746146) + 0.54505897)\n",
      "\n",
      "==============================\n",
      "Press 'q' and then <enter> to stop execution early.\n",
      "\n",
      "Cycles per second: 2.500e+05\n",
      "Head worker occupation: 12.5%\n",
      "Progress: 2778 / 3000 total iterations (92.600%)\n",
      "==============================\n",
      "Best equations for output 1\n",
      "Hall of Fame:\n",
      "-----------------------------------------\n",
      "Complexity  loss       Score     Equation\n",
      "1           1.375e-06  -1.000e-10  1.4889566\n",
      "5           1.354e-06  3.928e-03  ((x2 * 1.6974162e-5) - -1.4889529)\n",
      "7           1.017e-06  1.432e-01  (((x3 * x2) * 0.00345036) - -1.4889303)\n",
      "9           1.002e-06  7.067e-03  ((((x3 * 0.0034186563) + 1.3870111e-5) * x2) - -1.4889277)\n",
      "11          1.002e-06  6.470e-05  ((((x3 * 0.0034193343) + 1.3706108e-5) * (x2 - 0.121186666)) - -1.4889274)\n",
      "13          9.738e-07  1.441e-02  ((((x3 * 0.0034193413) + ((1.3871648e-5 * x2) * -0.14223032)) * x2) - -1.4889557)\n",
      "15          9.582e-07  8.072e-03  ((((x3 * 0.0034193413) + (1.3871648e-5 * ((-0.14223032 * x2) + 1.3296201))) * x2) - -1.4889557)\n",
      "17          9.390e-07  1.011e-02  (((1.3871648e-5 * (((x3 * x2) * ((x2 + x3) / 0.7373959)) + 1.3296201)) * x2) - -1.4889557)\n",
      "19          8.926e-07  2.534e-02  ((((x3 * (0.0034193413 * 0.67920774)) + (1.3871648e-5 * (((x3 * x2) * x2) + x5))) * x2) - -1.4889557)\n",
      "\n",
      "==============================\n",
      "Best equations for output 2\n",
      "Hall of Fame:\n",
      "-----------------------------------------\n",
      "Complexity  loss       Score     Equation\n",
      "1           5.395e-06  -1.000e-10  0.54505855\n",
      "5           5.308e-06  4.094e-03  ((x3 * 0.011272862) + 0.5450467)\n",
      "7           4.905e-06  3.947e-02  (((x2 * x0) * 1.3374634e-9) + 0.54505044)\n",
      "9           4.904e-06  6.494e-05  ((((x2 - x3) * x0) * 1.3374634e-9) + 0.54505044)\n",
      "11          4.819e-06  8.750e-03  ((x3 * 0.010755371) + (((x2 * x0) * 1.3374634e-9) + 0.54505044))\n",
      "13          4.819e-06  5.335e-06  ((x3 * 0.010755371) + ((((x2 + 0.09094847) * x0) * 1.3374634e-9) + 0.54505044))\n",
      "15          4.751e-06  7.134e-03  (((x3 + -0.059055537) * (x3 * -0.18079996)) + (((x2 * x0) * 1.3374634e-9) + 0.54505044))\n",
      "17          4.740e-06  1.171e-03  (((x3 + -0.059055537) * (x3 * (-0.18079996 + x3))) + (((x2 * x0) * 1.3374634e-9) + 0.54505044))\n",
      "19          4.739e-06  9.892e-05  ((-0.059055537 * (x3 * (-0.18079996 + (x3 * x4)))) + ((((x2 * x0) * 1.3374634e-9) * x5) + 0.54505044))\n",
      "\n",
      "==============================\n",
      "Press 'q' and then <enter> to stop execution early.\n"
     ]
    },
    {
     "data": {
      "text/html": [
       "<style>#sk-container-id-3 {color: black;background-color: white;}#sk-container-id-3 pre{padding: 0;}#sk-container-id-3 div.sk-toggleable {background-color: white;}#sk-container-id-3 label.sk-toggleable__label {cursor: pointer;display: block;width: 100%;margin-bottom: 0;padding: 0.3em;box-sizing: border-box;text-align: center;}#sk-container-id-3 label.sk-toggleable__label-arrow:before {content: \"▸\";float: left;margin-right: 0.25em;color: #696969;}#sk-container-id-3 label.sk-toggleable__label-arrow:hover:before {color: black;}#sk-container-id-3 div.sk-estimator:hover label.sk-toggleable__label-arrow:before {color: black;}#sk-container-id-3 div.sk-toggleable__content {max-height: 0;max-width: 0;overflow: hidden;text-align: left;background-color: #f0f8ff;}#sk-container-id-3 div.sk-toggleable__content pre {margin: 0.2em;color: black;border-radius: 0.25em;background-color: #f0f8ff;}#sk-container-id-3 input.sk-toggleable__control:checked~div.sk-toggleable__content {max-height: 200px;max-width: 100%;overflow: auto;}#sk-container-id-3 input.sk-toggleable__control:checked~label.sk-toggleable__label-arrow:before {content: \"▾\";}#sk-container-id-3 div.sk-estimator input.sk-toggleable__control:checked~label.sk-toggleable__label {background-color: #d4ebff;}#sk-container-id-3 div.sk-label input.sk-toggleable__control:checked~label.sk-toggleable__label {background-color: #d4ebff;}#sk-container-id-3 input.sk-hidden--visually {border: 0;clip: rect(1px 1px 1px 1px);clip: rect(1px, 1px, 1px, 1px);height: 1px;margin: -1px;overflow: hidden;padding: 0;position: absolute;width: 1px;}#sk-container-id-3 div.sk-estimator {font-family: monospace;background-color: #f0f8ff;border: 1px dotted black;border-radius: 0.25em;box-sizing: border-box;margin-bottom: 0.5em;}#sk-container-id-3 div.sk-estimator:hover {background-color: #d4ebff;}#sk-container-id-3 div.sk-parallel-item::after {content: \"\";width: 100%;border-bottom: 1px solid gray;flex-grow: 1;}#sk-container-id-3 div.sk-label:hover label.sk-toggleable__label {background-color: #d4ebff;}#sk-container-id-3 div.sk-serial::before {content: \"\";position: absolute;border-left: 1px solid gray;box-sizing: border-box;top: 0;bottom: 0;left: 50%;z-index: 0;}#sk-container-id-3 div.sk-serial {display: flex;flex-direction: column;align-items: center;background-color: white;padding-right: 0.2em;padding-left: 0.2em;position: relative;}#sk-container-id-3 div.sk-item {position: relative;z-index: 1;}#sk-container-id-3 div.sk-parallel {display: flex;align-items: stretch;justify-content: center;background-color: white;position: relative;}#sk-container-id-3 div.sk-item::before, #sk-container-id-3 div.sk-parallel-item::before {content: \"\";position: absolute;border-left: 1px solid gray;box-sizing: border-box;top: 0;bottom: 0;left: 50%;z-index: -1;}#sk-container-id-3 div.sk-parallel-item {display: flex;flex-direction: column;z-index: 1;position: relative;background-color: white;}#sk-container-id-3 div.sk-parallel-item:first-child::after {align-self: flex-end;width: 50%;}#sk-container-id-3 div.sk-parallel-item:last-child::after {align-self: flex-start;width: 50%;}#sk-container-id-3 div.sk-parallel-item:only-child::after {width: 0;}#sk-container-id-3 div.sk-dashed-wrapped {border: 1px dashed gray;margin: 0 0.4em 0.5em 0.4em;box-sizing: border-box;padding-bottom: 0.4em;background-color: white;}#sk-container-id-3 div.sk-label label {font-family: monospace;font-weight: bold;display: inline-block;line-height: 1.2em;}#sk-container-id-3 div.sk-label-container {text-align: center;}#sk-container-id-3 div.sk-container {/* jupyter's `normalize.less` sets `[hidden] { display: none; }` but bootstrap.min.css set `[hidden] { display: none !important; }` so we also need the `!important` here to be able to override the default hidden behavior on the sphinx rendered scikit-learn.org. See: https://github.com/scikit-learn/scikit-learn/issues/21755 */display: inline-block !important;position: relative;}#sk-container-id-3 div.sk-text-repr-fallback {display: none;}</style><div id=\"sk-container-id-3\" class=\"sk-top-container\"><div class=\"sk-text-repr-fallback\"><pre>PySRRegressor.equations_ = [\n",
       "[\n",
       "\t   pick     score                                           equation  \\\n",
       "\t0        0.000000                                          1.4889566   \n",
       "\t1        0.003928                 ((x2 * 1.6974162e-5) - -1.4889529)   \n",
       "\t2  &gt;&gt;&gt;&gt;  0.143196            (((x3 * x2) * 0.00345036) - -1.4889303)   \n",
       "\t3        0.007066  ((((x3 * 0.0034186563) + 1.3870111e-5) * x2) -...   \n",
       "\t4        0.100561  (((((x3 * x2) * x2) * 3.601098e-5) * x2) - -1....   \n",
       "\t5        0.008117  ((((((x3 * x2) * x2) + 0.31948254) * 3.601098e...   \n",
       "\t6        0.000388  ((((((x3 * (x2 - 0.3484059)) * x2) + 0.3194825...   \n",
       "\t7        0.015567  (((((x3 * x2) * (x2 + ((x3 / 0.014726842) - 1....   \n",
       "\t8        0.000204  (((((x3 * x2) * ((x2 + ((x3 / 0.014726842) - 1...   \n",
       "\t\n",
       "\t           loss  complexity  \n",
       "\t0  1.375210e-06           1  \n",
       "\t1  1.353770e-06           5  \n",
       "\t2  1.016639e-06           7  \n",
       "\t3  1.002372e-06           9  \n",
       "\t4  8.197528e-07          11  \n",
       "\t5  8.065527e-07          13  \n",
       "\t6  8.059275e-07          15  \n",
       "\t7  7.812218e-07          17  \n",
       "\t8  7.809033e-07          19  \n",
       "], [\n",
       "\t   pick     score                                           equation  \\\n",
       "\t0        0.000000                                         0.54505855   \n",
       "\t1        0.004094                   ((x3 * 0.011272862) + 0.5450467)   \n",
       "\t2  &gt;&gt;&gt;&gt;  0.039467          (((x2 * x0) * 1.3374634e-9) + 0.54505044)   \n",
       "\t3        0.000065   ((((x2 - x3) * x0) * 1.3374634e-9) + 0.54505044)   \n",
       "\t4        0.008750  ((x3 * 0.010755371) + (((x2 * x0) * 1.3374634e...   \n",
       "\t5        0.000005  ((x3 * 0.010755371) + ((((x2 + 0.09094847) * x...   \n",
       "\t6        0.007134  (((x3 + -0.059055537) * (x3 * -0.18079996)) + ...   \n",
       "\t7        0.001270  ((-0.059055537 * (x3 * (-0.18079996 + (x3 * x4...   \n",
       "\t8        0.000079  (((-0.059055537 * 1.0604887) * (x3 * (-0.18079...   \n",
       "\t\n",
       "\t       loss  complexity  \n",
       "\t0  0.000005           1  \n",
       "\t1  0.000005           5  \n",
       "\t2  0.000005           7  \n",
       "\t3  0.000005           9  \n",
       "\t4  0.000005          11  \n",
       "\t5  0.000005          13  \n",
       "\t6  0.000005          15  \n",
       "\t7  0.000005          17  \n",
       "\t8  0.000005          19  \n",
       "]]</pre><b>In a Jupyter environment, please rerun this cell to show the HTML representation or trust the notebook. <br />On GitHub, the HTML representation is unable to render, please try loading this page with nbviewer.org.</b></div><div class=\"sk-container\" hidden><div class=\"sk-item\"><div class=\"sk-estimator sk-toggleable\"><input class=\"sk-toggleable__control sk-hidden--visually\" id=\"sk-estimator-id-3\" type=\"checkbox\" checked><label for=\"sk-estimator-id-3\" class=\"sk-toggleable__label sk-toggleable__label-arrow\">PySRRegressor</label><div class=\"sk-toggleable__content\"><pre>PySRRegressor.equations_ = [\n",
       "[\n",
       "\t   pick     score                                           equation  \\\n",
       "\t0        0.000000                                          1.4889566   \n",
       "\t1        0.003928                 ((x2 * 1.6974162e-5) - -1.4889529)   \n",
       "\t2  &gt;&gt;&gt;&gt;  0.143196            (((x3 * x2) * 0.00345036) - -1.4889303)   \n",
       "\t3        0.007066  ((((x3 * 0.0034186563) + 1.3870111e-5) * x2) -...   \n",
       "\t4        0.100561  (((((x3 * x2) * x2) * 3.601098e-5) * x2) - -1....   \n",
       "\t5        0.008117  ((((((x3 * x2) * x2) + 0.31948254) * 3.601098e...   \n",
       "\t6        0.000388  ((((((x3 * (x2 - 0.3484059)) * x2) + 0.3194825...   \n",
       "\t7        0.015567  (((((x3 * x2) * (x2 + ((x3 / 0.014726842) - 1....   \n",
       "\t8        0.000204  (((((x3 * x2) * ((x2 + ((x3 / 0.014726842) - 1...   \n",
       "\t\n",
       "\t           loss  complexity  \n",
       "\t0  1.375210e-06           1  \n",
       "\t1  1.353770e-06           5  \n",
       "\t2  1.016639e-06           7  \n",
       "\t3  1.002372e-06           9  \n",
       "\t4  8.197528e-07          11  \n",
       "\t5  8.065527e-07          13  \n",
       "\t6  8.059275e-07          15  \n",
       "\t7  7.812218e-07          17  \n",
       "\t8  7.809033e-07          19  \n",
       "], [\n",
       "\t   pick     score                                           equation  \\\n",
       "\t0        0.000000                                         0.54505855   \n",
       "\t1        0.004094                   ((x3 * 0.011272862) + 0.5450467)   \n",
       "\t2  &gt;&gt;&gt;&gt;  0.039467          (((x2 * x0) * 1.3374634e-9) + 0.54505044)   \n",
       "\t3        0.000065   ((((x2 - x3) * x0) * 1.3374634e-9) + 0.54505044)   \n",
       "\t4        0.008750  ((x3 * 0.010755371) + (((x2 * x0) * 1.3374634e...   \n",
       "\t5        0.000005  ((x3 * 0.010755371) + ((((x2 + 0.09094847) * x...   \n",
       "\t6        0.007134  (((x3 + -0.059055537) * (x3 * -0.18079996)) + ...   \n",
       "\t7        0.001270  ((-0.059055537 * (x3 * (-0.18079996 + (x3 * x4...   \n",
       "\t8        0.000079  (((-0.059055537 * 1.0604887) * (x3 * (-0.18079...   \n",
       "\t\n",
       "\t       loss  complexity  \n",
       "\t0  0.000005           1  \n",
       "\t1  0.000005           5  \n",
       "\t2  0.000005           7  \n",
       "\t3  0.000005           9  \n",
       "\t4  0.000005          11  \n",
       "\t5  0.000005          13  \n",
       "\t6  0.000005          15  \n",
       "\t7  0.000005          17  \n",
       "\t8  0.000005          19  \n",
       "]]</pre></div></div></div></div></div>"
      ],
      "text/plain": [
       "PySRRegressor.equations_ = [\n",
       "[\n",
       "\t   pick     score                                           equation  \\\n",
       "\t0        0.000000                                          1.4889566   \n",
       "\t1        0.003928                 ((x2 * 1.6974162e-5) - -1.4889529)   \n",
       "\t2  >>>>  0.143196            (((x3 * x2) * 0.00345036) - -1.4889303)   \n",
       "\t3        0.007066  ((((x3 * 0.0034186563) + 1.3870111e-5) * x2) -...   \n",
       "\t4        0.100561  (((((x3 * x2) * x2) * 3.601098e-5) * x2) - -1....   \n",
       "\t5        0.008117  ((((((x3 * x2) * x2) + 0.31948254) * 3.601098e...   \n",
       "\t6        0.000388  ((((((x3 * (x2 - 0.3484059)) * x2) + 0.3194825...   \n",
       "\t7        0.015567  (((((x3 * x2) * (x2 + ((x3 / 0.014726842) - 1....   \n",
       "\t8        0.000204  (((((x3 * x2) * ((x2 + ((x3 / 0.014726842) - 1...   \n",
       "\t\n",
       "\t           loss  complexity  \n",
       "\t0  1.375210e-06           1  \n",
       "\t1  1.353770e-06           5  \n",
       "\t2  1.016639e-06           7  \n",
       "\t3  1.002372e-06           9  \n",
       "\t4  8.197528e-07          11  \n",
       "\t5  8.065527e-07          13  \n",
       "\t6  8.059275e-07          15  \n",
       "\t7  7.812218e-07          17  \n",
       "\t8  7.809033e-07          19  \n",
       "], [\n",
       "\t   pick     score                                           equation  \\\n",
       "\t0        0.000000                                         0.54505855   \n",
       "\t1        0.004094                   ((x3 * 0.011272862) + 0.5450467)   \n",
       "\t2  >>>>  0.039467          (((x2 * x0) * 1.3374634e-9) + 0.54505044)   \n",
       "\t3        0.000065   ((((x2 - x3) * x0) * 1.3374634e-9) + 0.54505044)   \n",
       "\t4        0.008750  ((x3 * 0.010755371) + (((x2 * x0) * 1.3374634e...   \n",
       "\t5        0.000005  ((x3 * 0.010755371) + ((((x2 + 0.09094847) * x...   \n",
       "\t6        0.007134  (((x3 + -0.059055537) * (x3 * -0.18079996)) + ...   \n",
       "\t7        0.001270  ((-0.059055537 * (x3 * (-0.18079996 + (x3 * x4...   \n",
       "\t8        0.000079  (((-0.059055537 * 1.0604887) * (x3 * (-0.18079...   \n",
       "\t\n",
       "\t       loss  complexity  \n",
       "\t0  0.000005           1  \n",
       "\t1  0.000005           5  \n",
       "\t2  0.000005           7  \n",
       "\t3  0.000005           9  \n",
       "\t4  0.000005          11  \n",
       "\t5  0.000005          13  \n",
       "\t6  0.000005          15  \n",
       "\t7  0.000005          17  \n",
       "\t8  0.000005          19  \n",
       "]]"
      ]
     },
     "execution_count": 48,
     "metadata": {},
     "output_type": "execute_result"
    }
   ],
   "source": [
    "model.fit(X=X, y=actions)"
   ]
  }
 ],
 "metadata": {
  "colab": {
   "collapsed_sections": [],
   "name": "Action Angle Networks",
   "private_outputs": true,
   "provenance": []
  },
  "kernelspec": {
   "display_name": "Python 3.10.6 ('.venv': venv)",
   "language": "python",
   "name": "python3"
  },
  "language_info": {
   "codemirror_mode": {
    "name": "ipython",
    "version": 3
   },
   "file_extension": ".py",
   "mimetype": "text/x-python",
   "name": "python",
   "nbconvert_exporter": "python",
   "pygments_lexer": "ipython3",
   "version": "3.10.6"
  },
  "vscode": {
   "interpreter": {
    "hash": "45c221f236eecb0b1c23fce42a936a83675bebea8d9fa72a417c8659fc8ee34a"
   }
  }
 },
 "nbformat": 4,
 "nbformat_minor": 0
}
