{
 "cells": [
  {
   "cell_type": "markdown",
   "metadata": {
    "id": "7qMi5_E-R9lu"
   },
   "source": [
    "Copyright 2022 Google LLC.\n",
    "\n",
    "Licensed under the Apache License, Version 2.0 (the \"License\");"
   ]
  },
  {
   "cell_type": "code",
   "execution_count": 15,
   "metadata": {
    "cellView": "form",
    "id": "xzh-n15URpBL"
   },
   "outputs": [],
   "source": [
    "# @title License\n",
    "# Licensed under the Apache License, Version 2.0 (the \"License\");\n",
    "# you may not use this file except in compliance with the License.\n",
    "# You may obtain a copy of the License at\n",
    "#\n",
    "# https://www.apache.org/licenses/LICENSE-2.0\n",
    "#\n",
    "# Unless required by applicable law or agreed to in writing, software\n",
    "# distributed under the License is distributed on an \"AS IS\" BASIS,\n",
    "# WITHOUT WARRANTIES OR CONDITIONS OF ANY KIND, either express or implied.\n",
    "# See the License for the specific language governing permissions and\n",
    "# limitations under the License."
   ]
  },
  {
   "cell_type": "markdown",
   "metadata": {
    "id": "G_2R-K2HirHJ"
   },
   "source": [
    "# Action-Angle Networks\n",
    "\n"
   ]
  },
  {
   "cell_type": "code",
   "execution_count": 16,
   "metadata": {
    "id": "12FyNb8BRPCC"
   },
   "outputs": [
    {
     "data": {
      "text/plain": [
       "'/Users/ameyad/Documents/google-research/action_angle_networks'"
      ]
     },
     "execution_count": 16,
     "metadata": {},
     "output_type": "execute_result"
    }
   ],
   "source": [
    "%pwd"
   ]
  },
  {
   "cell_type": "code",
   "execution_count": 17,
   "metadata": {},
   "outputs": [],
   "source": [
    "%mkdir -p ../notebook_outputs"
   ]
  },
  {
   "cell_type": "code",
   "execution_count": 1,
   "metadata": {
    "id": "8yR2UOi6oew1"
   },
   "outputs": [],
   "source": [
    "# @title Base Imports\n",
    "from typing import *\n",
    "import functools\n",
    "import sys\n",
    "import tempfile\n",
    "import os\n",
    "\n",
    "from absl import logging\n",
    "import collections\n",
    "import chex\n",
    "from clu import checkpoint\n",
    "import numpy as np\n",
    "import jax\n",
    "import jax.numpy as jnp\n",
    "import flax.linen as nn\n",
    "from flax.core import frozen_dict\n",
    "from flax.training import train_state\n",
    "import optax\n",
    "import distrax\n",
    "import tensorflow as tf\n",
    "import ml_collections\n",
    "import matplotlib.pyplot as plt\n",
    "import matplotlib.animation as animation\n",
    "import matplotlib\n",
    "import pysr\n",
    "import yaml\n",
    "\n",
    "PLT_STYLE_CONTEXT = ['science', 'ieee', 'grid']\n",
    "\n",
    "sys.path.append(\"..\")\n",
    "matplotlib.rc(\"animation\", html=\"jshtml\")\n",
    "logging.get_absl_handler().python_handler.stream = sys.stdout\n",
    "logging.set_verbosity(logging.INFO)"
   ]
  },
  {
   "cell_type": "code",
   "execution_count": 6,
   "metadata": {},
   "outputs": [],
   "source": [
    "%load_ext autoreload"
   ]
  },
  {
   "cell_type": "code",
   "execution_count": 7,
   "metadata": {
    "id": "bPBQtMXLS7z2"
   },
   "outputs": [],
   "source": [
    "# @title Source Imports\n",
    "%autoreload 2\n",
    "import harmonic_motion_simulation\n",
    "import models\n",
    "import train\n",
    "import analysis\n",
    "from configs.harmonic_motion import (action_angle_flow, action_angle_mlp, euler_update_flow, euler_update_mlp)"
   ]
  },
  {
   "cell_type": "markdown",
   "metadata": {},
   "source": [
    "## Loading a Pre-Trained Model"
   ]
  },
  {
   "cell_type": "code",
   "execution_count": 63,
   "metadata": {},
   "outputs": [],
   "source": [
    "# @title Location of Pretrained Model\n",
    "# config_name = \"euler_update_flow\"\n",
    "config_name = \"action_angle_flow\"\n",
    "k_pair = \"0.\"\n",
    "num_samples = \"500\"\n",
    "workdir = f\"/Users/ameyad/Documents/google-research/workdirs/no_linear/action_angle_networks/configs/harmonic_motion/{config_name}/k_pair={k_pair}\""
   ]
  },
  {
   "cell_type": "code",
   "execution_count": 64,
   "metadata": {},
   "outputs": [
    {
     "name": "stderr",
     "output_type": "stream",
     "text": [
      "INFO:absl:Saved config found. Loading...\n",
      "INFO:absl:Restoring checkpoint: /Users/ameyad/Documents/google-research/workdirs/no_linear/action_angle_networks/configs/harmonic_motion/action_angle_flow/k_pair=0./checkpoints/ckpt-1\n",
      "INFO:absl:Restored save_counter=1 restored_checkpoint=/Users/ameyad/Documents/google-research/workdirs/no_linear/action_angle_networks/configs/harmonic_motion/action_angle_flow/k_pair=0./checkpoints/ckpt-1\n"
     ]
    }
   ],
   "source": [
    "config, scaler, state, aux = analysis.load_from_workdir(workdir, default_config=action_angle_flow.get_config())"
   ]
  },
  {
   "cell_type": "code",
   "execution_count": 65,
   "metadata": {
    "id": "fSSkCqDmqMe1"
   },
   "outputs": [],
   "source": [
    "train_positions = aux[\"train\"][\"positions\"]\n",
    "train_momentums = aux[\"train\"][\"momentums\"]\n",
    "train_simulation_parameters = aux[\"train\"][\"simulation_parameters\"]\n",
    "all_train_metrics = aux[\"train\"][\"metrics\"]\n",
    "\n",
    "test_positions = aux[\"test\"][\"positions\"]\n",
    "test_momentums = aux[\"test\"][\"momentums\"]\n",
    "test_simulation_parameters = aux[\"test\"][\"simulation_parameters\"]\n",
    "all_test_metrics = aux[\"test\"][\"metrics\"]"
   ]
  },
  {
   "cell_type": "code",
   "execution_count": 73,
   "metadata": {},
   "outputs": [],
   "source": [
    "# Setup.\n",
    "jump = 1\n",
    "curr_positions, curr_momentums, *_ = train.get_coordinates_for_time_jump(\n",
    "    train_positions, train_momentums, jump\n",
    ")"
   ]
  },
  {
   "cell_type": "code",
   "execution_count": 74,
   "metadata": {},
   "outputs": [],
   "source": [
    "def compute_actions(curr_positions, curr_momentums):\n",
    "    _, _, auxiliary_predictions = state.apply_fn(\n",
    "        state.params, curr_positions, curr_momentums, 0\n",
    "    )\n",
    "    actions = auxiliary_predictions[\"actions\"]\n",
    "    return actions"
   ]
  },
  {
   "cell_type": "code",
   "execution_count": 75,
   "metadata": {},
   "outputs": [
    {
     "data": {
      "text/plain": [
       "DeviceArray([[1.7688025, 1.4246038],\n",
       "             [1.7685826, 1.4250891],\n",
       "             [1.7684244, 1.4255072],\n",
       "             [1.7683202, 1.4258581],\n",
       "             [1.7682613, 1.426145 ],\n",
       "             [1.7682396, 1.4263697],\n",
       "             [1.7682483, 1.4265366],\n",
       "             [1.7682804, 1.4266493],\n",
       "             [1.7683296, 1.4267136],\n",
       "             [1.7683905, 1.4267342],\n",
       "             [1.7684575, 1.4267173],\n",
       "             [1.7685273, 1.4266689],\n",
       "             [1.7685955, 1.4265945],\n",
       "             [1.7686595, 1.4265007],\n",
       "             [1.768717 , 1.4263927],\n",
       "             [1.768766 , 1.4262767],\n",
       "             [1.7688048, 1.4261578],\n",
       "             [1.7688333, 1.4260402],\n",
       "             [1.7688508, 1.4259286],\n",
       "             [1.7688571, 1.4258262],\n",
       "             [1.7688527, 1.4257367],\n",
       "             [1.7688378, 1.4256616],\n",
       "             [1.7688136, 1.425603 ],\n",
       "             [1.7687805, 1.4255615],\n",
       "             [1.76874  , 1.4255378],\n",
       "             [1.7686934, 1.4255316],\n",
       "             [1.7686421, 1.4255414],\n",
       "             [1.7685872, 1.4255663],\n",
       "             [1.7685305, 1.4256045],\n",
       "             [1.7684735, 1.4256537],\n",
       "             [1.7684176, 1.4257116],\n",
       "             [1.7683643, 1.4257755],\n",
       "             [1.7683147, 1.4258432],\n",
       "             [1.7682709, 1.4259118],\n",
       "             [1.7682337, 1.4259796],\n",
       "             [1.7682041, 1.4260429],\n",
       "             [1.7681832, 1.4261013],\n",
       "             [1.7681715, 1.4261522],\n",
       "             [1.7681695, 1.4261947],\n",
       "             [1.7681779, 1.4262282],\n",
       "             [1.7681959, 1.4262513],\n",
       "             [1.7682236, 1.4262646],\n",
       "             [1.7682605, 1.4262682],\n",
       "             [1.7683052, 1.426263 ],\n",
       "             [1.7683562, 1.4262497],\n",
       "             [1.7684122, 1.4262295],\n",
       "             [1.7684715, 1.4262038],\n",
       "             [1.7685314, 1.4261743],\n",
       "             [1.7685907, 1.4261426],\n",
       "             [1.768646 , 1.4261104],\n",
       "             [1.7686956, 1.4260792],\n",
       "             [1.7687372, 1.4260507],\n",
       "             [1.7687685, 1.426026 ],\n",
       "             [1.7687874, 1.4260064],\n",
       "             [1.7687925, 1.425993 ],\n",
       "             [1.768782 , 1.4259858],\n",
       "             [1.7687556, 1.4259856],\n",
       "             [1.7687125, 1.4259921],\n",
       "             [1.7686529, 1.4260051],\n",
       "             [1.7685777, 1.4260241],\n",
       "             [1.7684885, 1.4260476],\n",
       "             [1.7683873, 1.4260747],\n",
       "             [1.7682762, 1.4261042],\n",
       "             [1.7681595, 1.4261345],\n",
       "             [1.7680407, 1.4261634],\n",
       "             [1.7679249, 1.4261901],\n",
       "             [1.7678171, 1.4262129],\n",
       "             [1.7677233, 1.4262295],\n",
       "             [1.7676502, 1.4262395],\n",
       "             [1.7676039, 1.4262412],\n",
       "             [1.7675916, 1.4262335],\n",
       "             [1.7676208, 1.4262173],\n",
       "             [1.7676982, 1.4261911],\n",
       "             [1.767832 , 1.4261558],\n",
       "             [1.7680287, 1.4261125],\n",
       "             [1.7682961, 1.4260626],\n",
       "             [1.7686396, 1.4260075],\n",
       "             [1.769067 , 1.4259503],\n",
       "             [1.7695827, 1.4258937]], dtype=float32)"
      ]
     },
     "execution_count": 75,
     "metadata": {},
     "output_type": "execute_result"
    }
   ],
   "source": [
    "actions = compute_actions(curr_positions, curr_momentums)\n",
    "actions"
   ]
  },
  {
   "cell_type": "code",
   "execution_count": 81,
   "metadata": {},
   "outputs": [
    {
     "name": "stdout",
     "output_type": "stream",
     "text": [
      "(2,)\n"
     ]
    },
    {
     "data": {
      "text/plain": [
       "DeviceArray([[-2.37277316e-04,  9.56650376e-01],\n",
       "             [ 1.11943664e-04,  9.53731716e-01],\n",
       "             [ 4.60843381e-04,  9.46089506e-01],\n",
       "             [ 8.07723729e-04,  9.33763027e-01],\n",
       "             [ 1.15089142e-03,  9.16813135e-01],\n",
       "             [ 1.48866861e-03,  8.95322680e-01],\n",
       "             [ 1.81940221e-03,  8.69394720e-01],\n",
       "             [ 2.14146450e-03,  8.39154661e-01],\n",
       "             [ 2.45326664e-03,  8.04747880e-01],\n",
       "             [ 2.75326404e-03,  7.66340792e-01],\n",
       "             [ 3.03996541e-03,  7.24118352e-01],\n",
       "             [ 3.31194419e-03,  6.78285778e-01],\n",
       "             [ 3.56784207e-03,  6.29066348e-01],\n",
       "             [ 3.80638288e-03,  5.76700926e-01],\n",
       "             [ 4.02637711e-03,  5.21446168e-01],\n",
       "             [ 4.22673579e-03,  4.63575006e-01],\n",
       "             [ 4.40646894e-03,  4.03373599e-01],\n",
       "             [ 4.56470158e-03,  3.41141492e-01],\n",
       "             [ 4.70067235e-03,  2.77188689e-01],\n",
       "             [ 4.81374469e-03,  2.11835250e-01],\n",
       "             [ 4.90340078e-03,  1.45408705e-01],\n",
       "             [ 4.96925367e-03,  7.82427564e-02],\n",
       "             [ 5.01104118e-03,  1.06756575e-02],\n",
       "             [ 5.02862502e-03, -5.69526330e-02],\n",
       "             [ 5.02199586e-03, -1.24301121e-01],\n",
       "             [ 4.99126222e-03, -1.91030413e-01],\n",
       "             [ 4.93664993e-03, -2.56804556e-01],\n",
       "             [ 4.85849660e-03, -3.21292639e-01],\n",
       "             [ 4.75724880e-03, -3.84170443e-01],\n",
       "             [ 4.63344995e-03, -4.45122570e-01],\n",
       "             [ 4.48774267e-03, -5.03843784e-01],\n",
       "             [ 4.32085991e-03, -5.60040534e-01],\n",
       "             [ 4.13361378e-03, -6.13432109e-01],\n",
       "             [ 3.92689835e-03, -6.63752496e-01],\n",
       "             [ 3.70168313e-03, -7.10751891e-01],\n",
       "             [ 3.45900212e-03, -7.54196823e-01],\n",
       "             [ 3.19996034e-03, -7.93871403e-01],\n",
       "             [ 2.92572170e-03, -8.29579353e-01],\n",
       "             [ 2.63750763e-03, -8.61143470e-01],\n",
       "             [ 2.33659986e-03, -8.88407707e-01],\n",
       "             [ 2.02433113e-03, -9.11236584e-01],\n",
       "             [ 1.70208386e-03, -9.29516971e-01],\n",
       "             [ 1.37129147e-03, -9.43157256e-01],\n",
       "             [ 1.03342999e-03, -9.52089369e-01],\n",
       "             [ 6.90018525e-04, -9.56268430e-01],\n",
       "             [ 3.42613203e-04, -9.55672920e-01],\n",
       "             [-7.19707168e-06, -9.50304210e-01],\n",
       "             [-3.57793178e-04, -9.40187931e-01],\n",
       "             [-7.07534258e-04, -9.25373971e-01],\n",
       "             [-1.05476181e-03, -9.05934572e-01],\n",
       "             [-1.39780797e-03, -8.81965876e-01],\n",
       "             [-1.73500110e-03, -8.53586495e-01],\n",
       "             [-2.06467649e-03, -8.20937395e-01],\n",
       "             [-2.38518300e-03, -7.84181654e-01],\n",
       "             [-2.69489223e-03, -7.43502498e-01],\n",
       "             [-2.99220835e-03, -6.99103236e-01],\n",
       "             [-3.27557698e-03, -6.51206434e-01],\n",
       "             [-3.54349520e-03, -6.00052118e-01],\n",
       "             [-3.79452226e-03, -5.45896769e-01],\n",
       "             [-4.02728934e-03, -4.89011973e-01],\n",
       "             [-4.24050447e-03, -4.29683089e-01],\n",
       "             [-4.43297345e-03, -3.68207544e-01],\n",
       "             [-4.60359408e-03, -3.04893374e-01],\n",
       "             [-4.75137588e-03, -2.40057632e-01],\n",
       "             [-4.87543968e-03, -1.74024493e-01],\n",
       "             [-4.97503299e-03, -1.07124157e-01],\n",
       "             [-5.04952949e-03, -3.96904796e-02],\n",
       "             [-5.09843696e-03,  2.79400162e-02],\n",
       "             [-5.12140151e-03,  9.54302996e-02],\n",
       "             [-5.11821220e-03,  1.62444115e-01],\n",
       "             [-5.08880243e-03,  2.28648022e-01],\n",
       "             [-5.03324810e-03,  2.93712258e-01],\n",
       "             [-4.95177507e-03,  3.57313037e-01],\n",
       "             [-4.84475307e-03,  4.19133842e-01],\n",
       "             [-4.71269572e-03,  4.78865892e-01],\n",
       "             [-4.55626100e-03,  5.36211133e-01],\n",
       "             [-4.37624194e-03,  5.90883136e-01],\n",
       "             [-4.17356798e-03,  6.42607331e-01],\n",
       "             [-3.94929759e-03,  6.91124320e-01]], dtype=float32)"
      ]
     },
     "execution_count": 81,
     "metadata": {},
     "output_type": "execute_result"
    }
   ],
   "source": [
    "def compute_action(curr_position, curr_momentum, index=1):\n",
    "   print(curr_position.shape)\n",
    "   curr_position = jnp.expand_dims(curr_position, axis=0)\n",
    "   curr_momentum = jnp.expand_dims(curr_momentum, axis=0)\n",
    "   return compute_actions(curr_position, curr_momentum)[0, index]\n",
    "   \n",
    "\n",
    "curr_positions, curr_momentums = jax.tree_map(jnp.asarray, (curr_positions, curr_momentums))\n",
    "grad_actions = jax.jit(jax.vmap(jax.grad(compute_action)))(curr_positions, curr_momentums)\n",
    "grad_actions"
   ]
  },
  {
   "cell_type": "code",
   "execution_count": 82,
   "metadata": {},
   "outputs": [],
   "source": [
    "model = pysr.PySRRegressor(niterations=100)"
   ]
  },
  {
   "cell_type": "code",
   "execution_count": 83,
   "metadata": {},
   "outputs": [],
   "source": [
    "# curr_positions, curr_momentums = train.inverse_transform_with_scaler(curr_positions, curr_momentums, scaler)\n",
    "masses = np.tile(train_simulation_parameters['m'][np.newaxis, :], (curr_positions.shape[0], 1))"
   ]
  },
  {
   "cell_type": "code",
   "execution_count": 84,
   "metadata": {},
   "outputs": [
    {
     "data": {
      "text/plain": [
       "((79, 4), (79, 2))"
      ]
     },
     "execution_count": 84,
     "metadata": {},
     "output_type": "execute_result"
    }
   ],
   "source": [
    "X = np.concatenate([curr_positions, curr_momentums], axis=1)\n",
    "y = grad_actions\n",
    "X.shape, y.shape"
   ]
  },
  {
   "cell_type": "code",
   "execution_count": 85,
   "metadata": {},
   "outputs": [
    {
     "name": "stderr",
     "output_type": "stream",
     "text": [
      "/Users/ameyad/Documents/google-research/.venv/lib/python3.10/site-packages/pysr/sr.py:1225: UserWarning: Note: it looks like you are running in Jupyter. The progress bar will be turned off.\n",
      "  warnings.warn(\n"
     ]
    },
    {
     "name": "stdout",
     "output_type": "stream",
     "text": [
      "Started!\n",
      "\n",
      "Cycles per second: 3.380e+05\n",
      "Head worker occupation: 8.4%\n",
      "Progress: 933 / 3000 total iterations (31.100%)\n",
      "==============================\n",
      "Best equations for output 1\n",
      "Hall of Fame:\n",
      "-----------------------------------------\n",
      "Complexity  loss       Score     Equation\n",
      "1           1.367e-05  6.641e-08  0.00031428755\n",
      "3           1.693e-07  2.196e+00  (x3 * -0.0036849491)\n",
      "5           9.580e-08  2.847e-01  ((x3 * -0.0036817777) - -0.00027114965)\n",
      "7           7.805e-08  1.025e-01  (((x1 * 0.08204619) + x3) * -0.003712801)\n",
      "9           7.395e-09  1.178e+00  (((x1 * -0.0800334) - (x3 - 0.0726791)) * 0.0037089095)\n",
      "11          7.374e-09  1.454e-03  ((((x1 * -0.16222996) + 0.1430803) - (x3 + x3)) * 0.0018546504)\n",
      "13          7.372e-09  7.541e-05  (((((x1 + 0.20125447) * -0.16174024) - (x3 + x3)) * 0.0018546225) + 0.00032627647)\n",
      "15          2.124e-09  6.222e-01  (((x1 * (-0.0800334 * (1.0879052 + (0.28728202 * x2)))) - (x3 - 0.0726791)) * 0.0037089095)\n",
      "17          2.119e-09  1.119e-03  (((x1 * (-0.0800334 * (1.0879052 + ((0.28728202 * x2) + -0.0082834)))) - (x3 - 0.0726791)) * 0.0037089095)\n",
      "\n",
      "==============================\n",
      "Best equations for output 2\n",
      "Hall of Fame:\n",
      "-----------------------------------------\n",
      "Complexity  loss       Score     Equation\n",
      "1           1.362e-01  1.096e+00  x1\n",
      "3           9.662e-03  1.323e+00  (x1 * 0.64278376)\n",
      "5           8.238e-06  3.534e+00  ((x1 * 0.6411623) - 0.09826891)\n",
      "7           8.234e-06  2.321e-04  (((x1 * 0.64116246) - 157.25354) + 157.15527)\n",
      "9           3.816e-08  2.687e+00  (((x1 - 0.15314408) * 0.6414281) + (x3 * 0.00287333))\n",
      "\n",
      "==============================\n",
      "Press 'q' and then <enter> to stop execution early.\n",
      "\n",
      "Cycles per second: 3.200e+05\n",
      "Head worker occupation: 8.3%\n",
      "Progress: 1765 / 3000 total iterations (58.833%)\n",
      "==============================\n",
      "Best equations for output 1\n",
      "Hall of Fame:\n",
      "-----------------------------------------\n",
      "Complexity  loss       Score     Equation\n",
      "1           1.367e-05  6.641e-08  0.00031428755\n",
      "3           1.693e-07  2.196e+00  (x3 * -0.0036849491)\n",
      "5           9.580e-08  2.847e-01  ((x3 * -0.0036817777) - -0.00027114965)\n",
      "7           7.805e-08  1.025e-01  (((x1 * 0.08204619) + x3) * -0.003712801)\n",
      "9           7.373e-09  1.180e+00  ((x3 + ((x1 * 0.08090975) - 0.07162903)) * -0.003709271)\n",
      "13          5.630e-09  6.742e-02  ((((((x1 + x2) * -0.10894183) - x3) / 1.1083434) + 0.08374543) * 0.0037089095)\n",
      "15          2.124e-09  4.874e-01  (((x1 * (-0.0800334 * (1.0879052 + (0.28728202 * x2)))) - (x3 - 0.0726791)) * 0.0037089095)\n",
      "17          1.909e-09  5.347e-02  ((((x1 - -0.0800334) * (-0.0800334 * (1.0879052 + (0.28728202 * x2)))) - (x3 - 0.0726791)) * 0.0037089095)\n",
      "19          1.828e-09  2.151e-02  ((((x1 + (-0.0800334 / -1.7563572)) * (-0.0800334 * (1.0879052 + (0.28728202 * x2)))) - (x3 - 0.0726791)) * 0.0037089095)\n",
      "\n",
      "==============================\n",
      "Best equations for output 2\n",
      "Hall of Fame:\n",
      "-----------------------------------------\n",
      "Complexity  loss       Score     Equation\n",
      "1           1.362e-01  1.096e+00  x1\n",
      "3           9.662e-03  1.323e+00  (x1 * 0.64278376)\n",
      "5           8.238e-06  3.534e+00  ((x1 * 0.6411623) - 0.09826891)\n",
      "7           8.232e-06  3.425e-04  (((x1 * 0.6411612) - 192.73135) + 192.63309)\n",
      "9           3.816e-08  2.687e+00  (((x1 - 0.15314408) * 0.6414281) + (x3 * 0.00287333))\n",
      "17          2.368e-08  5.964e-02  ((((x1 - 0.15314408) * 0.6414281) + ((x2 * 0.00287333) * 0.15742768)) + ((0.00287333 * 0.8614758) * x3))\n",
      "19          2.331e-08  7.899e-03  ((((x1 - 0.15314408) * 0.6414281) + ((((x1 * x2) * 0.00287333) * 0.22868177) * 0.22868177)) + (0.00287333 * x3))\n",
      "\n",
      "==============================\n",
      "Press 'q' and then <enter> to stop execution early.\n",
      "\n",
      "Cycles per second: 3.120e+05\n",
      "Head worker occupation: 8.4%\n",
      "Progress: 2582 / 3000 total iterations (86.067%)\n",
      "==============================\n",
      "Best equations for output 1\n",
      "Hall of Fame:\n",
      "-----------------------------------------\n",
      "Complexity  loss       Score     Equation\n",
      "1           1.367e-05  6.641e-08  0.00031428755\n",
      "3           1.693e-07  2.196e+00  (x3 * -0.0036849512)\n",
      "5           9.580e-08  2.847e-01  ((x3 * -0.0036817777) - -0.00027114965)\n",
      "7           7.805e-08  1.025e-01  (((x1 * 0.08204619) + x3) * -0.003712801)\n",
      "9           7.372e-09  1.180e+00  ((((x1 * -0.08086948) - x3) * 0.0037092415) + 0.0002659142)\n",
      "11          5.038e-09  1.904e-01  (((((x3 / 0.09642393) + x1) + x2) - 0.70077837) * -0.00032406944)\n",
      "13          2.521e-09  3.461e-01  (((((x3 / 0.09642357) + -0.76206785) + (x2 * 0.43797615)) + x1) * -0.00034434246)\n",
      "15          2.124e-09  8.579e-02  (((x1 * (-0.0800334 * (1.0879052 + (0.28728202 * x2)))) - (x3 - 0.0726791)) * 0.0037089095)\n",
      "17          1.035e-09  3.593e-01  (((x3 * 0.8975769) + ((((0.8975769 - (x1 / 0.8975769)) - x2) - x3) * -0.08334364)) * -0.003494438)\n",
      "19          1.195e-10  1.080e+00  (((((((x2 * -0.51839465) - x1) * -0.6740751) - 0.59239763) / ((x2 - x0) + -8.595695)) - x3) * 0.0035925293)\n",
      "\n",
      "==============================\n",
      "Best equations for output 2\n",
      "Hall of Fame:\n",
      "-----------------------------------------\n",
      "Complexity  loss       Score     Equation\n",
      "1           1.362e-01  1.096e+00  x1\n",
      "3           9.662e-03  1.323e+00  (x1 * 0.64278376)\n",
      "5           8.238e-06  3.534e+00  ((x1 * 0.6411623) - 0.09826891)\n",
      "7           8.232e-06  3.863e-04  (((x1 * 0.64116085) - 192.73137) + 192.63307)\n",
      "9           3.816e-08  2.687e+00  (((x1 - 0.15314408) * 0.6414281) + (x3 * 0.00287333))\n",
      "17          2.310e-08  6.274e-02  ((((x1 - 0.15314408) * 0.6414281) + ((0.00287333 * x2) * 0.15314408)) + ((0.00287333 * 0.8614758) * x3))\n",
      "\n",
      "==============================\n",
      "Press 'q' and then <enter> to stop execution early.\n"
     ]
    },
    {
     "data": {
      "text/html": [
       "<style>#sk-container-id-5 {color: black;background-color: white;}#sk-container-id-5 pre{padding: 0;}#sk-container-id-5 div.sk-toggleable {background-color: white;}#sk-container-id-5 label.sk-toggleable__label {cursor: pointer;display: block;width: 100%;margin-bottom: 0;padding: 0.3em;box-sizing: border-box;text-align: center;}#sk-container-id-5 label.sk-toggleable__label-arrow:before {content: \"▸\";float: left;margin-right: 0.25em;color: #696969;}#sk-container-id-5 label.sk-toggleable__label-arrow:hover:before {color: black;}#sk-container-id-5 div.sk-estimator:hover label.sk-toggleable__label-arrow:before {color: black;}#sk-container-id-5 div.sk-toggleable__content {max-height: 0;max-width: 0;overflow: hidden;text-align: left;background-color: #f0f8ff;}#sk-container-id-5 div.sk-toggleable__content pre {margin: 0.2em;color: black;border-radius: 0.25em;background-color: #f0f8ff;}#sk-container-id-5 input.sk-toggleable__control:checked~div.sk-toggleable__content {max-height: 200px;max-width: 100%;overflow: auto;}#sk-container-id-5 input.sk-toggleable__control:checked~label.sk-toggleable__label-arrow:before {content: \"▾\";}#sk-container-id-5 div.sk-estimator input.sk-toggleable__control:checked~label.sk-toggleable__label {background-color: #d4ebff;}#sk-container-id-5 div.sk-label input.sk-toggleable__control:checked~label.sk-toggleable__label {background-color: #d4ebff;}#sk-container-id-5 input.sk-hidden--visually {border: 0;clip: rect(1px 1px 1px 1px);clip: rect(1px, 1px, 1px, 1px);height: 1px;margin: -1px;overflow: hidden;padding: 0;position: absolute;width: 1px;}#sk-container-id-5 div.sk-estimator {font-family: monospace;background-color: #f0f8ff;border: 1px dotted black;border-radius: 0.25em;box-sizing: border-box;margin-bottom: 0.5em;}#sk-container-id-5 div.sk-estimator:hover {background-color: #d4ebff;}#sk-container-id-5 div.sk-parallel-item::after {content: \"\";width: 100%;border-bottom: 1px solid gray;flex-grow: 1;}#sk-container-id-5 div.sk-label:hover label.sk-toggleable__label {background-color: #d4ebff;}#sk-container-id-5 div.sk-serial::before {content: \"\";position: absolute;border-left: 1px solid gray;box-sizing: border-box;top: 0;bottom: 0;left: 50%;z-index: 0;}#sk-container-id-5 div.sk-serial {display: flex;flex-direction: column;align-items: center;background-color: white;padding-right: 0.2em;padding-left: 0.2em;position: relative;}#sk-container-id-5 div.sk-item {position: relative;z-index: 1;}#sk-container-id-5 div.sk-parallel {display: flex;align-items: stretch;justify-content: center;background-color: white;position: relative;}#sk-container-id-5 div.sk-item::before, #sk-container-id-5 div.sk-parallel-item::before {content: \"\";position: absolute;border-left: 1px solid gray;box-sizing: border-box;top: 0;bottom: 0;left: 50%;z-index: -1;}#sk-container-id-5 div.sk-parallel-item {display: flex;flex-direction: column;z-index: 1;position: relative;background-color: white;}#sk-container-id-5 div.sk-parallel-item:first-child::after {align-self: flex-end;width: 50%;}#sk-container-id-5 div.sk-parallel-item:last-child::after {align-self: flex-start;width: 50%;}#sk-container-id-5 div.sk-parallel-item:only-child::after {width: 0;}#sk-container-id-5 div.sk-dashed-wrapped {border: 1px dashed gray;margin: 0 0.4em 0.5em 0.4em;box-sizing: border-box;padding-bottom: 0.4em;background-color: white;}#sk-container-id-5 div.sk-label label {font-family: monospace;font-weight: bold;display: inline-block;line-height: 1.2em;}#sk-container-id-5 div.sk-label-container {text-align: center;}#sk-container-id-5 div.sk-container {/* jupyter's `normalize.less` sets `[hidden] { display: none; }` but bootstrap.min.css set `[hidden] { display: none !important; }` so we also need the `!important` here to be able to override the default hidden behavior on the sphinx rendered scikit-learn.org. See: https://github.com/scikit-learn/scikit-learn/issues/21755 */display: inline-block !important;position: relative;}#sk-container-id-5 div.sk-text-repr-fallback {display: none;}</style><div id=\"sk-container-id-5\" class=\"sk-top-container\"><div class=\"sk-text-repr-fallback\"><pre>PySRRegressor.equations_ = [\n",
       "[\n",
       "\t   pick     score                                           equation  \\\n",
       "\t0        0.000000                                      0.00031428755   \n",
       "\t1        2.195759                               (x3 * -0.0036849512)   \n",
       "\t2        0.284745            ((x3 * -0.0036817777) - -0.00027114965)   \n",
       "\t3        0.102463          (((x1 * 0.08204619) + x3) * -0.003712801)   \n",
       "\t4        1.179784  ((((x1 * -0.08086948) - x3) * 0.0037092415) + ...   \n",
       "\t5        0.331898  (((((x3 / 0.09642393) + x1) - 0.82726383) + x2...   \n",
       "\t6        0.434961  ((((((x3 / 0.09713997) + -0.00031969944) + x1)...   \n",
       "\t7        0.121327  (((((((x3 / 0.09713997) + -0.00031969944) + x1...   \n",
       "\t8        0.093310  (((x3 * 0.8975769) + ((((0.8975769 - (x1 / 0.8...   \n",
       "\t9  &gt;&gt;&gt;&gt;  1.079748  (((((((x2 * -0.51839465) - x1) * -0.6740751) -...   \n",
       "\t\n",
       "\t           loss  complexity  \n",
       "\t0  1.367401e-05           1  \n",
       "\t1  1.693103e-07           3  \n",
       "\t2  9.579812e-08           5  \n",
       "\t3  7.804741e-08           7  \n",
       "\t4  7.372439e-09           9  \n",
       "\t5  3.796019e-09          11  \n",
       "\t6  1.590471e-09          13  \n",
       "\t7  1.247793e-09          15  \n",
       "\t8  1.035367e-09          17  \n",
       "\t9  1.194641e-10          19  \n",
       "], [\n",
       "\t   pick     score                                           equation  \\\n",
       "\t0        0.000000                                                 x1   \n",
       "\t1        1.322813                                  (x1 * 0.64278376)   \n",
       "\t2        3.533625                    ((x1 * 0.6411623) - 0.09826891)   \n",
       "\t3        0.000386      (((x1 * 0.64116085) - 192.73137) + 192.63307)   \n",
       "\t4        2.686918  (((x1 - 0.15314408) * 0.6414281) + (x3 * 0.002...   \n",
       "\t5  &gt;&gt;&gt;&gt;  0.062743  ((((x1 - 0.15314408) * 0.6414281) + ((0.002873...   \n",
       "\t\n",
       "\t           loss  complexity  \n",
       "\t0  1.361650e-01           1  \n",
       "\t1  9.662399e-03           3  \n",
       "\t2  8.237919e-06           5  \n",
       "\t3  8.231557e-06           7  \n",
       "\t4  3.816409e-08           9  \n",
       "\t5  2.310276e-08          17  \n",
       "]]</pre><b>In a Jupyter environment, please rerun this cell to show the HTML representation or trust the notebook. <br />On GitHub, the HTML representation is unable to render, please try loading this page with nbviewer.org.</b></div><div class=\"sk-container\" hidden><div class=\"sk-item\"><div class=\"sk-estimator sk-toggleable\"><input class=\"sk-toggleable__control sk-hidden--visually\" id=\"sk-estimator-id-5\" type=\"checkbox\" checked><label for=\"sk-estimator-id-5\" class=\"sk-toggleable__label sk-toggleable__label-arrow\">PySRRegressor</label><div class=\"sk-toggleable__content\"><pre>PySRRegressor.equations_ = [\n",
       "[\n",
       "\t   pick     score                                           equation  \\\n",
       "\t0        0.000000                                      0.00031428755   \n",
       "\t1        2.195759                               (x3 * -0.0036849512)   \n",
       "\t2        0.284745            ((x3 * -0.0036817777) - -0.00027114965)   \n",
       "\t3        0.102463          (((x1 * 0.08204619) + x3) * -0.003712801)   \n",
       "\t4        1.179784  ((((x1 * -0.08086948) - x3) * 0.0037092415) + ...   \n",
       "\t5        0.331898  (((((x3 / 0.09642393) + x1) - 0.82726383) + x2...   \n",
       "\t6        0.434961  ((((((x3 / 0.09713997) + -0.00031969944) + x1)...   \n",
       "\t7        0.121327  (((((((x3 / 0.09713997) + -0.00031969944) + x1...   \n",
       "\t8        0.093310  (((x3 * 0.8975769) + ((((0.8975769 - (x1 / 0.8...   \n",
       "\t9  &gt;&gt;&gt;&gt;  1.079748  (((((((x2 * -0.51839465) - x1) * -0.6740751) -...   \n",
       "\t\n",
       "\t           loss  complexity  \n",
       "\t0  1.367401e-05           1  \n",
       "\t1  1.693103e-07           3  \n",
       "\t2  9.579812e-08           5  \n",
       "\t3  7.804741e-08           7  \n",
       "\t4  7.372439e-09           9  \n",
       "\t5  3.796019e-09          11  \n",
       "\t6  1.590471e-09          13  \n",
       "\t7  1.247793e-09          15  \n",
       "\t8  1.035367e-09          17  \n",
       "\t9  1.194641e-10          19  \n",
       "], [\n",
       "\t   pick     score                                           equation  \\\n",
       "\t0        0.000000                                                 x1   \n",
       "\t1        1.322813                                  (x1 * 0.64278376)   \n",
       "\t2        3.533625                    ((x1 * 0.6411623) - 0.09826891)   \n",
       "\t3        0.000386      (((x1 * 0.64116085) - 192.73137) + 192.63307)   \n",
       "\t4        2.686918  (((x1 - 0.15314408) * 0.6414281) + (x3 * 0.002...   \n",
       "\t5  &gt;&gt;&gt;&gt;  0.062743  ((((x1 - 0.15314408) * 0.6414281) + ((0.002873...   \n",
       "\t\n",
       "\t           loss  complexity  \n",
       "\t0  1.361650e-01           1  \n",
       "\t1  9.662399e-03           3  \n",
       "\t2  8.237919e-06           5  \n",
       "\t3  8.231557e-06           7  \n",
       "\t4  3.816409e-08           9  \n",
       "\t5  2.310276e-08          17  \n",
       "]]</pre></div></div></div></div></div>"
      ],
      "text/plain": [
       "PySRRegressor.equations_ = [\n",
       "[\n",
       "\t   pick     score                                           equation  \\\n",
       "\t0        0.000000                                      0.00031428755   \n",
       "\t1        2.195759                               (x3 * -0.0036849512)   \n",
       "\t2        0.284745            ((x3 * -0.0036817777) - -0.00027114965)   \n",
       "\t3        0.102463          (((x1 * 0.08204619) + x3) * -0.003712801)   \n",
       "\t4        1.179784  ((((x1 * -0.08086948) - x3) * 0.0037092415) + ...   \n",
       "\t5        0.331898  (((((x3 / 0.09642393) + x1) - 0.82726383) + x2...   \n",
       "\t6        0.434961  ((((((x3 / 0.09713997) + -0.00031969944) + x1)...   \n",
       "\t7        0.121327  (((((((x3 / 0.09713997) + -0.00031969944) + x1...   \n",
       "\t8        0.093310  (((x3 * 0.8975769) + ((((0.8975769 - (x1 / 0.8...   \n",
       "\t9  >>>>  1.079748  (((((((x2 * -0.51839465) - x1) * -0.6740751) -...   \n",
       "\t\n",
       "\t           loss  complexity  \n",
       "\t0  1.367401e-05           1  \n",
       "\t1  1.693103e-07           3  \n",
       "\t2  9.579812e-08           5  \n",
       "\t3  7.804741e-08           7  \n",
       "\t4  7.372439e-09           9  \n",
       "\t5  3.796019e-09          11  \n",
       "\t6  1.590471e-09          13  \n",
       "\t7  1.247793e-09          15  \n",
       "\t8  1.035367e-09          17  \n",
       "\t9  1.194641e-10          19  \n",
       "], [\n",
       "\t   pick     score                                           equation  \\\n",
       "\t0        0.000000                                                 x1   \n",
       "\t1        1.322813                                  (x1 * 0.64278376)   \n",
       "\t2        3.533625                    ((x1 * 0.6411623) - 0.09826891)   \n",
       "\t3        0.000386      (((x1 * 0.64116085) - 192.73137) + 192.63307)   \n",
       "\t4        2.686918  (((x1 - 0.15314408) * 0.6414281) + (x3 * 0.002...   \n",
       "\t5  >>>>  0.062743  ((((x1 - 0.15314408) * 0.6414281) + ((0.002873...   \n",
       "\t\n",
       "\t           loss  complexity  \n",
       "\t0  1.361650e-01           1  \n",
       "\t1  9.662399e-03           3  \n",
       "\t2  8.237919e-06           5  \n",
       "\t3  8.231557e-06           7  \n",
       "\t4  3.816409e-08           9  \n",
       "\t5  2.310276e-08          17  \n",
       "]]"
      ]
     },
     "execution_count": 85,
     "metadata": {},
     "output_type": "execute_result"
    }
   ],
   "source": [
    "model.fit(X=X, y=y)"
   ]
  }
 ],
 "metadata": {
  "colab": {
   "collapsed_sections": [],
   "name": "Action Angle Networks",
   "private_outputs": true,
   "provenance": []
  },
  "kernelspec": {
   "display_name": "Python 3.10.6 ('.venv': venv)",
   "language": "python",
   "name": "python3"
  },
  "language_info": {
   "codemirror_mode": {
    "name": "ipython",
    "version": 3
   },
   "file_extension": ".py",
   "mimetype": "text/x-python",
   "name": "python",
   "nbconvert_exporter": "python",
   "pygments_lexer": "ipython3",
   "version": "3.10.6"
  },
  "vscode": {
   "interpreter": {
    "hash": "45c221f236eecb0b1c23fce42a936a83675bebea8d9fa72a417c8659fc8ee34a"
   }
  }
 },
 "nbformat": 4,
 "nbformat_minor": 0
}
