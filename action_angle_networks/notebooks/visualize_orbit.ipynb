{
 "cells": [
  {
   "cell_type": "code",
   "execution_count": 2,
   "metadata": {},
   "outputs": [],
   "source": [
    "## Imports\n",
    "import numpy as np\n",
    "import jax\n",
    "import jax.numpy as jnp\n",
    "import matplotlib\n",
    "from matplotlib import animation\n",
    "import matplotlib.pyplot as plt\n",
    "import os\n",
    "from sklearn import decomposition\n",
    "import scipy.interpolate\n",
    "import sys\n",
    "sys.path.append(\"../..\")\n",
    "\n",
    "matplotlib.rc(\"animation\", html=\"jshtml\")\n",
    "PLT_STYLE_CONTEXT = ['science', 'ieee', 'grid']"
   ]
  },
  {
   "cell_type": "code",
   "execution_count": 3,
   "metadata": {},
   "outputs": [],
   "source": [
    "%load_ext autoreload"
   ]
  },
  {
   "cell_type": "code",
   "execution_count": 4,
   "metadata": {},
   "outputs": [],
   "source": [
    "# @title Source Imports\n",
    "%autoreload 2\n",
    "from action_angle_networks.simulation import orbit_simulation\n",
    "from action_angle_networks.configs.orbit import default\n",
    "from action_angle_networks import train\n",
    "from action_angle_networks import analysis\n",
    "from action_angle_networks import generate_plots"
   ]
  },
  {
   "cell_type": "code",
   "execution_count": 25,
   "metadata": {},
   "outputs": [],
   "source": [
    "config = \"action_angle_flow\"\n",
    "config_short = \"aan\"\n",
    "generate_plots.plot_static_trajectory(\n",
    "    input_dir=f\"/Users/ameyad/Documents/google-research/tmps/{config_short}\",\n",
    "    output_dir=f\"notebook_outputs/visualize_orbit/{config_short}\",\n",
    "    simulation=\"orbit\",\n",
    "    jump=1,\n",
    "    title=generate_plots.get_label_from_config(config),\n",
    "    plot_phase_space=False,\n",
    ")\n",
    "generate_plots.plot_static_trajectory(\n",
    "    input_dir=f\"/Users/ameyad/Documents/google-research/tmps/{config_short}\",\n",
    "    output_dir=f\"notebook_outputs/visualize_orbit/{config_short}\",\n",
    "    simulation=\"orbit\",\n",
    "    jump=1,\n",
    "    title=generate_plots.get_label_from_config(config),\n",
    "    plot_phase_space=True,\n",
    ")"
   ]
  },
  {
   "cell_type": "code",
   "execution_count": 30,
   "metadata": {},
   "outputs": [
    {
     "name": "stdout",
     "output_type": "stream",
     "text": [
      "jump 1 1000 0.47564304\n",
      "jump 2 1000 0.994633\n",
      "jump 5 1000 27.429358\n",
      "jump 1 1000 0.26418576\n",
      "jump 2 1000 0.9564087\n",
      "jump 5 1000 5.110499\n"
     ]
    }
   ],
   "source": [
    "generate_plots.plot_performance_against_steps(\n",
    "    input_dirs=[\"/Users/ameyad/Documents/google-research/tmps/hnn\", \"/Users/ameyad/Documents/google-research/tmps/aan\"],\n",
    "    output_dirs=[\"notebook_outputs/visualize_orbit/hnn\", \"notebook_outputs/visualize_orbit/aan\"],\n",
    "    titles=[\"HNN\", \"Action-Angle Network\"],\n",
    ")"
   ]
  }
 ],
 "metadata": {
  "kernelspec": {
   "display_name": ".venv",
   "language": "python",
   "name": "python3"
  },
  "language_info": {
   "codemirror_mode": {
    "name": "ipython",
    "version": 3
   },
   "file_extension": ".py",
   "mimetype": "text/x-python",
   "name": "python",
   "nbconvert_exporter": "python",
   "pygments_lexer": "ipython3",
   "version": "3.10.8"
  },
  "orig_nbformat": 4,
  "vscode": {
   "interpreter": {
    "hash": "45c221f236eecb0b1c23fce42a936a83675bebea8d9fa72a417c8659fc8ee34a"
   }
  }
 },
 "nbformat": 4,
 "nbformat_minor": 2
}
