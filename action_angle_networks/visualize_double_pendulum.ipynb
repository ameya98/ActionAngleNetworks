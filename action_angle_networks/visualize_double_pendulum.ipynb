{
 "cells": [
  {
   "cell_type": "code",
   "execution_count": null,
   "metadata": {},
   "outputs": [],
   "source": [
    "## Imports\n",
    "import numpy as np\n",
    "import jax\n",
    "import jax.numpy as jnp\n",
    "import matplotlib\n",
    "from matplotlib import animation\n",
    "import matplotlib.pyplot as plt\n",
    "import os\n",
    "from sklearn import decomposition\n",
    "import scipy.interpolate\n",
    "import sys\n",
    "sys.path.append(\"..\")\n",
    "\n",
    "matplotlib.rc(\"animation\", html=\"jshtml\")\n",
    "PLT_STYLE_CONTEXT = ['science', 'ieee', 'grid']"
   ]
  },
  {
   "cell_type": "code",
   "execution_count": null,
   "metadata": {},
   "outputs": [],
   "source": [
    "%load_ext autoreload"
   ]
  },
  {
   "cell_type": "code",
   "execution_count": null,
   "metadata": {},
   "outputs": [],
   "source": [
    "# @title Source Imports\n",
    "%autoreload 2\n",
    "from action_angle_networks.simulation import double_pendulum_simulation\n",
    "from action_angle_networks.configs.double_pendulum import default\n",
    "from action_angle_networks import analysis"
   ]
  },
  {
   "cell_type": "code",
   "execution_count": null,
   "metadata": {},
   "outputs": [],
   "source": [
    "config = default.get_config()\n",
    "simulation_parameters = double_pendulum_simulation.sample_simulation_parameters(config.simulation_parameter_ranges.to_dict(), num_trajectories=config.num_trajectories, rng=jax.random.PRNGKey(0))"
   ]
  },
  {
   "cell_type": "code",
   "execution_count": null,
   "metadata": {},
   "outputs": [],
   "source": [
    "simulation_parameters[\"theta1_init\"] = jnp.pi / 2\n",
    "simulation_parameters[\"theta2_init\"] = 0\n",
    "simulation_parameters[\"m2\"] = 0.1"
   ]
  },
  {
   "cell_type": "code",
   "execution_count": null,
   "metadata": {},
   "outputs": [],
   "source": [
    "times = jnp.arange(0, 5, 0.01)\n",
    "positions, momentums = double_pendulum_simulation.generate_canonical_coordinates(times, simulation_parameters)"
   ]
  },
  {
   "cell_type": "code",
   "execution_count": null,
   "metadata": {},
   "outputs": [],
   "source": []
  },
  {
   "cell_type": "markdown",
   "metadata": {},
   "source": [
    "## Visualizing"
   ]
  },
  {
   "cell_type": "code",
   "execution_count": null,
   "metadata": {},
   "outputs": [],
   "source": [
    "# @title Location of Pretrained Model\n",
    "# config_name = \"euler_update_flow\"\n",
    "config_name = \"action_angle_flow\"\n",
    "setup = \"setup_1\"\n",
    "workdir = f\"/Users/ameyad/Documents/google-research/tmp/double_pendulum/{setup}/action_angle_flow/\""
   ]
  },
  {
   "cell_type": "code",
   "execution_count": null,
   "metadata": {},
   "outputs": [],
   "source": [
    "config, scaler, state, aux = analysis.load_from_workdir(workdir)"
   ]
  },
  {
   "cell_type": "code",
   "execution_count": null,
   "metadata": {},
   "outputs": [],
   "source": [
    "true_positions, true_momentums = analysis.get_train_trajectories(workdir, jump=1)\n",
    "double_pendulum_simulation.plot_coordinates(true_positions, true_momentums, simulation_parameters, title=\"Train Trajectories\")"
   ]
  },
  {
   "cell_type": "code",
   "execution_count": null,
   "metadata": {},
   "outputs": [],
   "source": [
    "true_positions, true_momentums = analysis.get_test_trajectories(workdir, jump=1)\n",
    "double_pendulum_simulation.plot_coordinates(true_positions, true_momentums, simulation_parameters, title=\"Test Trajectories\")"
   ]
  },
  {
   "cell_type": "code",
   "execution_count": null,
   "metadata": {},
   "outputs": [],
   "source": [
    "jump = 1\n",
    "predicted_positions, predicted_momentums = analysis.get_recursive_multi_step_predicted_trajectories(workdir, jump=jump)\n",
    "double_pendulum_simulation.plot_coordinates(predicted_positions, predicted_momentums, simulation_parameters, title=f\"Predicted Trajectories\\n Jump {jump}\")\n"
   ]
  },
  {
   "cell_type": "markdown",
   "metadata": {},
   "source": [
    "## Saving"
   ]
  },
  {
   "cell_type": "code",
   "execution_count": null,
   "metadata": {},
   "outputs": [],
   "source": [
    "train_positions, train_momentums = analysis.get_train_trajectories(workdir, jump=1)\n",
    "anim = double_pendulum_simulation.plot_coordinates(train_positions, train_momentums, simulation_parameters, title=\"Train Trajectories\")\n",
    "anim.save(f\"../notebook_outputs/double_pendulum/{setup}/train_trajectories.gif\")"
   ]
  },
  {
   "cell_type": "code",
   "execution_count": null,
   "metadata": {},
   "outputs": [],
   "source": [
    "test_positions, test_momentums = analysis.get_test_trajectories(workdir, jump=1)\n",
    "anim = double_pendulum_simulation.plot_coordinates(test_positions, test_momentums, simulation_parameters, title=\"Test Trajectories\")\n",
    "anim.save(f\"../notebook_outputs/double_pendulum/{setup}/test_trajectories.gif\")"
   ]
  },
  {
   "cell_type": "code",
   "execution_count": null,
   "metadata": {},
   "outputs": [],
   "source": [
    "for jump in [1, 2, 5, 10, 20, 50]:\n",
    "    predicted_positions, predicted_momentums = analysis.get_recursive_multi_step_predicted_trajectories(workdir, jump=jump)\n",
    "    anim = double_pendulum_simulation.plot_coordinates(predicted_positions, predicted_momentums, simulation_parameters, title=f\"Predicted Trajectories\\n Jump {jump}\")\n",
    "    anim.save(f\"../notebook_outputs/double_pendulum/{setup}/jump_{jump}_recursive_multi_step_predicted_trajectories.gif\")"
   ]
  }
 ],
 "metadata": {
  "kernelspec": {
   "display_name": "Python 3.10.6 ('.venv': venv)",
   "language": "python",
   "name": "python3"
  },
  "language_info": {
   "codemirror_mode": {
    "name": "ipython",
    "version": 3
   },
   "file_extension": ".py",
   "mimetype": "text/x-python",
   "name": "python",
   "nbconvert_exporter": "python",
   "pygments_lexer": "ipython3",
   "version": "3.10.6"
  },
  "orig_nbformat": 4,
  "vscode": {
   "interpreter": {
    "hash": "45c221f236eecb0b1c23fce42a936a83675bebea8d9fa72a417c8659fc8ee34a"
   }
  }
 },
 "nbformat": 4,
 "nbformat_minor": 2
}
