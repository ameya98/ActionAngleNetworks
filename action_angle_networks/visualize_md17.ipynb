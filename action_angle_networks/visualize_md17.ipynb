{
 "cells": [
  {
   "cell_type": "code",
   "execution_count": 1,
   "metadata": {},
   "outputs": [],
   "source": [
    "## Imports\n",
    "import numpy as np\n",
    "import jax\n",
    "import matplotlib\n",
    "from matplotlib import animation\n",
    "import matplotlib.pyplot as plt\n",
    "import matplotlib.lines as mlines\n",
    "import os\n",
    "from sklearn import decomposition\n",
    "import scipy.interpolate\n",
    "import sys\n",
    "sys.path.append(\"..\")\n",
    "\n",
    "from action_angle_networks.simulation import md17_simulation\n",
    "matplotlib.rc(\"animation\", html=\"jshtml\")\n",
    "PLT_STYLE_CONTEXT = ['science', 'ieee', 'grid']\n"
   ]
  },
  {
   "cell_type": "code",
   "execution_count": 2,
   "metadata": {},
   "outputs": [],
   "source": [
    "%load_ext autoreload"
   ]
  },
  {
   "cell_type": "code",
   "execution_count": 3,
   "metadata": {},
   "outputs": [],
   "source": [
    "# @title Source Imports\n",
    "%autoreload 2\n",
    "from action_angle_networks.simulation import md17_simulation"
   ]
  },
  {
   "cell_type": "code",
   "execution_count": 4,
   "metadata": {},
   "outputs": [],
   "source": [
    "def visualize_trajectory(molecule: str, num_structures: int = 100, resample: bool = False):\n",
    "    \"\"\"Visualizes a molecular dynamics trajectory.\"\"\"\n",
    "\n",
    "    # Load trajectory\n",
    "    positions, _, nuclear_charges = md17_simulation.load_trajectory(molecule, 10000000, resample)\n",
    "    # Project down to two dimensions.\n",
    "    num_atoms = positions.shape[1]\n",
    "    positions_flat = positions.reshape(-1, 3)\n",
    "    projected_positions_flat = decomposition.PCA(n_components=2).fit_transform(positions_flat)\n",
    "    projected_positions = np.reshape(projected_positions_flat, (-1, num_atoms, 2))\n",
    "\n",
    "    # Plot.\n",
    "    with plt.style.context(PLT_STYLE_CONTEXT):\n",
    "        fig, ax = plt.subplots()\n",
    "        scatter = ax.scatter(projected_positions[0, :, 0], projected_positions[0, :, 1], c=plt.cm.tab20(nuclear_charges))\n",
    "        handles = []\n",
    "        for nuclear_charge in set(nuclear_charges):\n",
    "            element = md17_simulation.charge_to_element(nuclear_charge)\n",
    "            handle = mlines.Line2D([], [], color=plt.cm.tab20(nuclear_charge), marker='o', ls='', label=element)\n",
    "            handles.append(handle)\n",
    "        ax.legend(handles=handles, loc=\"upper right\")\n",
    "        ax.set_xlabel(\"x\")\n",
    "        ax.set_ylabel(\"y\")\n",
    "        ax.set_xlim(1.5 * v for v in ax.get_xlim())\n",
    "        ax.set_ylim(1.5 * v for v in ax.get_ylim())\n",
    "        ax.set_title(f\"MD17: {molecule.capitalize()}\")\n",
    "        ax.grid(False)\n",
    "        fig.tight_layout()\n",
    "\n",
    "        def init():\n",
    "            return scatter,\n",
    "            \n",
    "        def plot_structure(index):\n",
    "            scatter.set_offsets(projected_positions[index, :])\n",
    "            return scatter,\n",
    "\n",
    "        anim = animation.FuncAnimation(fig, plot_structure, init_func=init, frames=num_structures, interval=100, blit=True)\n",
    "\n",
    "    plt.close()\n",
    "    return anim"
   ]
  },
  {
   "cell_type": "code",
   "execution_count": 8,
   "metadata": {},
   "outputs": [
    {
     "name": "stdout",
     "output_type": "stream",
     "text": [
      "indices [128702 469127 576375 ... 455811 214108 178805] 100000\n",
      "indices [390138 533956 496754 ... 133353 171562 425308] 100000\n",
      "indices [161596 194785  68409 ... 169192 210850  19313] 100000\n",
      "indices [320642 145570 331765 ... 290689 160278  39010] 100000\n"
     ]
    }
   ],
   "source": [
    "for molecule in [\"benzene\", \"ethanol\", \"aspirin\", \"toluene\"]:\n",
    "    md17_simulation.load_trajectory(molecule, 100000000, resample=False)"
   ]
  },
  {
   "cell_type": "code",
   "execution_count": 5,
   "metadata": {},
   "outputs": [
    {
     "name": "stdout",
     "output_type": "stream",
     "text": [
      "indices 100000\n"
     ]
    },
    {
     "ename": "TypeError",
     "evalue": "cannot unpack non-iterable NoneType object",
     "output_type": "error",
     "traceback": [
      "\u001b[0;31m---------------------------------------------------------------------------\u001b[0m",
      "\u001b[0;31mTypeError\u001b[0m                                 Traceback (most recent call last)",
      "\u001b[1;32m/Users/ameyad/Documents/google-research/action_angle_networks/visualize_md17.ipynb Cell 5\u001b[0m in \u001b[0;36m<cell line: 1>\u001b[0;34m()\u001b[0m\n\u001b[1;32m      <a href='vscode-notebook-cell:/Users/ameyad/Documents/google-research/action_angle_networks/visualize_md17.ipynb#W4sZmlsZQ%3D%3D?line=0'>1</a>\u001b[0m \u001b[39mfor\u001b[39;00m molecule \u001b[39min\u001b[39;00m [\u001b[39m\"\u001b[39m\u001b[39mbenzene\u001b[39m\u001b[39m\"\u001b[39m, \u001b[39m\"\u001b[39m\u001b[39methanol\u001b[39m\u001b[39m\"\u001b[39m, \u001b[39m\"\u001b[39m\u001b[39maspirin\u001b[39m\u001b[39m\"\u001b[39m, \u001b[39m\"\u001b[39m\u001b[39mtoluene\u001b[39m\u001b[39m\"\u001b[39m]:\n\u001b[0;32m----> <a href='vscode-notebook-cell:/Users/ameyad/Documents/google-research/action_angle_networks/visualize_md17.ipynb#W4sZmlsZQ%3D%3D?line=1'>2</a>\u001b[0m     anim \u001b[39m=\u001b[39m visualize_trajectory(molecule, resample\u001b[39m=\u001b[39;49m\u001b[39mTrue\u001b[39;49;00m)\n",
      "\u001b[1;32m/Users/ameyad/Documents/google-research/action_angle_networks/visualize_md17.ipynb Cell 5\u001b[0m in \u001b[0;36mvisualize_trajectory\u001b[0;34m(molecule, num_structures, resample)\u001b[0m\n\u001b[1;32m      <a href='vscode-notebook-cell:/Users/ameyad/Documents/google-research/action_angle_networks/visualize_md17.ipynb#W4sZmlsZQ%3D%3D?line=1'>2</a>\u001b[0m \u001b[39m\"\"\"Visualizes a molecular dynamics trajectory.\"\"\"\u001b[39;00m\n\u001b[1;32m      <a href='vscode-notebook-cell:/Users/ameyad/Documents/google-research/action_angle_networks/visualize_md17.ipynb#W4sZmlsZQ%3D%3D?line=3'>4</a>\u001b[0m \u001b[39m# Load trajectory\u001b[39;00m\n\u001b[0;32m----> <a href='vscode-notebook-cell:/Users/ameyad/Documents/google-research/action_angle_networks/visualize_md17.ipynb#W4sZmlsZQ%3D%3D?line=4'>5</a>\u001b[0m positions, _, nuclear_charges \u001b[39m=\u001b[39m md17_simulation\u001b[39m.\u001b[39mload_trajectory(molecule, \u001b[39m10000000\u001b[39m, resample)\n\u001b[1;32m      <a href='vscode-notebook-cell:/Users/ameyad/Documents/google-research/action_angle_networks/visualize_md17.ipynb#W4sZmlsZQ%3D%3D?line=5'>6</a>\u001b[0m \u001b[39m# Project down to two dimensions.\u001b[39;00m\n\u001b[1;32m      <a href='vscode-notebook-cell:/Users/ameyad/Documents/google-research/action_angle_networks/visualize_md17.ipynb#W4sZmlsZQ%3D%3D?line=6'>7</a>\u001b[0m num_atoms \u001b[39m=\u001b[39m positions\u001b[39m.\u001b[39mshape[\u001b[39m1\u001b[39m]\n",
      "\u001b[0;31mTypeError\u001b[0m: cannot unpack non-iterable NoneType object"
     ]
    }
   ],
   "source": [
    "for molecule in [\"benzene\", \"ethanol\", \"aspirin\", \"toluene\"]:\n",
    "    anim = visualize_trajectory(molecule, resample=True)\n",
    "    # anim.save(f\"../notebook_outputs/{molecule}.gif\")\n",
    "    # anim"
   ]
  }
 ],
 "metadata": {
  "kernelspec": {
   "display_name": "Python 3.10.6 ('.venv': venv)",
   "language": "python",
   "name": "python3"
  },
  "language_info": {
   "codemirror_mode": {
    "name": "ipython",
    "version": 3
   },
   "file_extension": ".py",
   "mimetype": "text/x-python",
   "name": "python",
   "nbconvert_exporter": "python",
   "pygments_lexer": "ipython3",
   "version": "3.10.6"
  },
  "orig_nbformat": 4,
  "vscode": {
   "interpreter": {
    "hash": "45c221f236eecb0b1c23fce42a936a83675bebea8d9fa72a417c8659fc8ee34a"
   }
  }
 },
 "nbformat": 4,
 "nbformat_minor": 2
}
