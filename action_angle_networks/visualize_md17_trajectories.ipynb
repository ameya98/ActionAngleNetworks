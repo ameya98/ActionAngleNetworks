{
 "cells": [
  {
   "cell_type": "code",
   "execution_count": 4,
   "metadata": {},
   "outputs": [],
   "source": [
    "## Imports\n",
    "import numpy as np\n",
    "import jax\n",
    "import matplotlib\n",
    "from matplotlib import animation\n",
    "import matplotlib.pyplot as plt\n",
    "import matplotlib.lines as mlines\n",
    "import os\n",
    "from sklearn import decomposition\n",
    "import scipy.interpolate\n",
    "import trajectory\n",
    "\n",
    "matplotlib.rc(\"animation\", html=\"jshtml\")\n",
    "PLT_STYLE_CONTEXT = ['science', 'ieee', 'grid']\n"
   ]
  },
  {
   "cell_type": "code",
   "execution_count": 2,
   "metadata": {},
   "outputs": [],
   "source": [
    "def visualize_trajectory(molecule: str, num_structures: int = 100, resample: bool = False):\n",
    "    \"\"\"Visualizes a molecular dynamics trajectory.\"\"\"\n",
    "\n",
    "    # Load trajectory\n",
    "    positions, _, nuclear_charges = trajectory.load_trajectory(molecule, num_structures + 1, resample)\n",
    "\n",
    "    # Project down to two dimensions.\n",
    "    num_atoms = positions.shape[1]\n",
    "    positions_flat = positions.reshape(-1, 3)\n",
    "    projected_positions_flat = decomposition.PCA(n_components=2).fit_transform(positions_flat)\n",
    "    projected_positions = np.reshape(projected_positions_flat, (-1, num_atoms, 2))\n",
    "\n",
    "    # Plot.\n",
    "    with plt.style.context(PLT_STYLE_CONTEXT):\n",
    "        fig, ax = plt.subplots()\n",
    "        scatter = ax.scatter(projected_positions[0, :, 0], projected_positions[0, :, 1], c=plt.cm.tab20(nuclear_charges))\n",
    "        handles = []\n",
    "        for nuclear_charge in set(nuclear_charges):\n",
    "            element = trajectory.charge_to_element(nuclear_charge)\n",
    "            handle = mlines.Line2D([], [], color=plt.cm.tab20(nuclear_charge), marker='o', ls='', label=element)\n",
    "            handles.append(handle)\n",
    "        ax.legend(handles=handles, loc=\"upper right\")\n",
    "        ax.set_xlabel(\"x\")\n",
    "        ax.set_ylabel(\"y\")\n",
    "        ax.set_xlim(1.5 * v for v in ax.get_xlim())\n",
    "        ax.set_ylim(1.5 * v for v in ax.get_ylim())\n",
    "        ax.set_title(f\"MD17: {molecule.capitalize()}\")\n",
    "        ax.grid(False)\n",
    "        fig.tight_layout()\n",
    "\n",
    "        def init():\n",
    "            return scatter,\n",
    "            \n",
    "        def plot_structure(index):\n",
    "            scatter.set_offsets(projected_positions[index, :])\n",
    "            return scatter,\n",
    "\n",
    "        anim = animation.FuncAnimation(fig, plot_structure, init_func=init, frames=num_structures, interval=100, blit=True)\n",
    "\n",
    "    plt.close()\n",
    "    return anim"
   ]
  },
  {
   "cell_type": "code",
   "execution_count": 3,
   "metadata": {},
   "outputs": [
    {
     "name": "stdout",
     "output_type": "stream",
     "text": [
      "[12 12 12 12 12 12  1  1  1  1  1  1] (1, 12, 1)\n",
      "[12 12 16  1  1  1  1  1  1] (1, 9, 1)\n",
      "[12 12 12 12 12 12 12 16 16 16 12 12 16  1  1  1  1  1  1  1  1] (1, 21, 1)\n",
      "[12 12 12 12 12 12 12  1  1  1  1  1  1  1  1] (1, 15, 1)\n"
     ]
    }
   ],
   "source": [
    "for molecule in [\"benzene\", \"ethanol\", \"aspirin\", \"toluene\"]:\n",
    "    anim = visualize_trajectory(molecule, resample=True)\n",
    "    anim.save(f\"{molecule}.gif\")\n",
    "    anim"
   ]
  }
 ],
 "metadata": {
  "kernelspec": {
   "display_name": "Python 3.10.6 ('.venv': venv)",
   "language": "python",
   "name": "python3"
  },
  "language_info": {
   "codemirror_mode": {
    "name": "ipython",
    "version": 3
   },
   "file_extension": ".py",
   "mimetype": "text/x-python",
   "name": "python",
   "nbconvert_exporter": "python",
   "pygments_lexer": "ipython3",
   "version": "3.10.6"
  },
  "orig_nbformat": 4,
  "vscode": {
   "interpreter": {
    "hash": "5e7f97bd3b303fe5e429ba0d03a9f5d6a3532b0717f82ea143e9314d4e4c5c4a"
   }
  }
 },
 "nbformat": 4,
 "nbformat_minor": 2
}
