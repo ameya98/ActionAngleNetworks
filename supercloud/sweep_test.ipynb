{
 "cells": [
  {
   "cell_type": "code",
   "execution_count": 8,
   "metadata": {},
   "outputs": [],
   "source": [
    "import yaml\n",
    "import ml_collections"
   ]
  },
  {
   "cell_type": "code",
   "execution_count": 15,
   "metadata": {},
   "outputs": [
    {
     "name": "stdout",
     "output_type": "stream",
     "text": [
      "<class 'ml_collections.config_dict.config_dict.ConfigDict'>\n"
     ]
    }
   ],
   "source": [
    "config = ml_collections.ConfigDict()\n",
    "config.s = ml_collections.ConfigDict({'x': (3,5)})\n",
    "config.update_from_flattened_dict({'s.x': [4, 5]})\n",
    "config"
   ]
  },
  {
   "cell_type": "code",
   "execution_count": 6,
   "metadata": {},
   "outputs": [
    {
     "data": {
      "text/plain": [
       "{'num_samples': [1000],\n",
       " 'simulation_parameter_ranges.k_pair': [[0.5], [1.0]],\n",
       " 'train_split_proportion': [0.01, 0.02, 0.05, 0.1, 0.2, 0.5]}"
      ]
     },
     "execution_count": 6,
     "metadata": {},
     "output_type": "execute_result"
    }
   ],
   "source": [
    "with open(\"sweeps/performance_vs_samples.yaml\", \"r\") as f:\n",
    "    updates = yaml.unsafe_load(f)\n",
    "\n",
    "updates"
   ]
  }
 ],
 "metadata": {
  "kernelspec": {
   "display_name": "Python 3.10.6 ('.venv': venv)",
   "language": "python",
   "name": "python3"
  },
  "language_info": {
   "codemirror_mode": {
    "name": "ipython",
    "version": 3
   },
   "file_extension": ".py",
   "mimetype": "text/x-python",
   "name": "python",
   "nbconvert_exporter": "python",
   "pygments_lexer": "ipython3",
   "version": "3.10.6"
  },
  "orig_nbformat": 4,
  "vscode": {
   "interpreter": {
    "hash": "45c221f236eecb0b1c23fce42a936a83675bebea8d9fa72a417c8659fc8ee34a"
   }
  }
 },
 "nbformat": 4,
 "nbformat_minor": 2
}
